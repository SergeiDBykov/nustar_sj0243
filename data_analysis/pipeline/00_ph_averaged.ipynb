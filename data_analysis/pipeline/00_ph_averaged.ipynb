{
 "cells": [
  {
   "cell_type": "markdown",
   "metadata": {},
   "source": [
    "# NUSTAR SCIENTIFIC PRODUCTS EXTRACTION"
   ]
  },
  {
   "cell_type": "markdown",
   "metadata": {},
   "source": [
    "This notebook contains the set of cells which extract the NUSTAR scientific products from the raw data and prepares the data for further analysis (not phase-resolved  spectroscopy)."
   ]
  },
  {
   "cell_type": "markdown",
   "metadata": {},
   "source": [
    "-------"
   ]
  },
  {
   "cell_type": "markdown",
   "metadata": {},
   "source": [
    "First, import necessary classes and functions from `nustar_scripts` folder in the root"
   ]
  },
  {
   "cell_type": "code",
   "execution_count": 4,
   "metadata": {},
   "outputs": [],
   "source": [
    "import sys\n",
    "sys.path.append('../../')\n",
    "from nustar_scripts.nu_class import np, plt, os, glob, NustarObservation\n",
    "from nustar_scripts.sj0243_init import Nu_path, ObsList_bright, ObsList, periods_val\n"
   ]
  },
  {
   "cell_type": "code",
   "execution_count": 5,
   "metadata": {},
   "outputs": [
    {
     "name": "stdout",
     "output_type": "stream",
     "text": [
      "['90201041002']\n"
     ]
    }
   ],
   "source": [
    "print(ObsList)"
   ]
  },
  {
   "cell_type": "markdown",
   "metadata": {},
   "source": [
    "------"
   ]
  },
  {
   "cell_type": "markdown",
   "metadata": {},
   "source": [
    "### Choose the  ObsID you want to work with by setting `ObsID=ObsList[...]`, or by  setting it by  your value, e.g.  `ObsID = '90201041002'`"
   ]
  },
  {
   "cell_type": "code",
   "execution_count": 6,
   "metadata": {},
   "outputs": [
    {
     "name": "stdout",
     "output_type": "stream",
     "text": [
      "###\n",
      "Observation 90201041002 loaded successfully\n"
     ]
    }
   ],
   "source": [
    "ObsID =  '90201041002'#ObsList[0]\n",
    "nu_obs = NustarObservation(ObsID, nu_path=Nu_path)"
   ]
  },
  {
   "cell_type": "markdown",
   "metadata": {},
   "source": [
    "1. Run this cell which creates nupipeline  and  source/background  regions extraction scripts.\n",
    "2. After the cell finishes, follow instructions one cell below."
   ]
  },
  {
   "cell_type": "code",
   "execution_count": 7,
   "metadata": {},
   "outputs": [
    {
     "name": "stdout",
     "output_type": "stream",
     "text": [
      "###\n",
      "Observation 90201041002 loaded successfully\n"
     ]
    },
    {
     "ename": "Exception",
     "evalue": "nupipeline has already been launched!",
     "output_type": "error",
     "traceback": [
      "\u001b[0;31m---------------------------------------------------------------------------\u001b[0m",
      "\u001b[0;31mException\u001b[0m                                 Traceback (most recent call last)",
      "\u001b[1;32m/Users/sdbykov/work/xray_pulsars/nustar_sj0243/data_analysis/pipeline/00_ph_averaged.ipynb Cell 7'\u001b[0m in \u001b[0;36m<cell line: 3>\u001b[0;34m()\u001b[0m\n\u001b[1;32m      <a href='vscode-notebook-cell:/Users/sdbykov/work/xray_pulsars/nustar_sj0243/data_analysis/pipeline/00_ph_averaged.ipynb#ch0000005?line=0'>1</a>\u001b[0m \u001b[39m#######   nupipeline and regions   #######\u001b[39;00m\n\u001b[1;32m      <a href='vscode-notebook-cell:/Users/sdbykov/work/xray_pulsars/nustar_sj0243/data_analysis/pipeline/00_ph_averaged.ipynb#ch0000005?line=1'>2</a>\u001b[0m nu_obs \u001b[39m=\u001b[39m NustarObservation(ObsID, nu_path\u001b[39m=\u001b[39mNu_path)\n\u001b[0;32m----> <a href='vscode-notebook-cell:/Users/sdbykov/work/xray_pulsars/nustar_sj0243/data_analysis/pipeline/00_ph_averaged.ipynb#ch0000005?line=2'>3</a>\u001b[0m nu_obs\u001b[39m.\u001b[39;49mnupipeline(ObsList_bright\u001b[39m=\u001b[39;49mObsList_bright)\n\u001b[1;32m      <a href='vscode-notebook-cell:/Users/sdbykov/work/xray_pulsars/nustar_sj0243/data_analysis/pipeline/00_ph_averaged.ipynb#ch0000005?line=3'>4</a>\u001b[0m nu_obs\u001b[39m.\u001b[39mmake_regions()\n",
      "File \u001b[0;32m~/work/xray_pulsars/nustar_sj0243/data_analysis/pipeline/../../nustar_scripts/nu_class.py:101\u001b[0m, in \u001b[0;36mNustarObservation.nupipeline\u001b[0;34m(self, ObsList_bright)\u001b[0m\n\u001b[1;32m     <a href='file:///Users/sdbykov/work/xray_pulsars/nustar_sj0243/data_analysis/pipeline/../../nustar_scripts/nu_class.py?line=98'>99</a>\u001b[0m os\u001b[39m.\u001b[39mchdir(\u001b[39mself\u001b[39m\u001b[39m.\u001b[39mout_path)\n\u001b[1;32m    <a href='file:///Users/sdbykov/work/xray_pulsars/nustar_sj0243/data_analysis/pipeline/../../nustar_scripts/nu_class.py?line=99'>100</a>\u001b[0m \u001b[39mif\u001b[39;00m \u001b[39mlen\u001b[39m(glob(\u001b[39m\"\u001b[39m\u001b[39m*A01_cl.evt\u001b[39m\u001b[39m\"\u001b[39m)) \u001b[39m!=\u001b[39m \u001b[39m0\u001b[39m:\n\u001b[0;32m--> <a href='file:///Users/sdbykov/work/xray_pulsars/nustar_sj0243/data_analysis/pipeline/../../nustar_scripts/nu_class.py?line=100'>101</a>\u001b[0m     \u001b[39mraise\u001b[39;00m \u001b[39mException\u001b[39;00m(\u001b[39m\"\u001b[39m\u001b[39mnupipeline has already been launched!\u001b[39m\u001b[39m\"\u001b[39m)\n\u001b[1;32m    <a href='file:///Users/sdbykov/work/xray_pulsars/nustar_sj0243/data_analysis/pipeline/../../nustar_scripts/nu_class.py?line=102'>103</a>\u001b[0m nupipeline \u001b[39m=\u001b[39m \u001b[39mf\u001b[39m\u001b[39m\"\"\"\u001b[39m\u001b[39mnupipeline indir=\u001b[39m\u001b[39m{\u001b[39;00m\u001b[39mself\u001b[39m\u001b[39m.\u001b[39mdata_path\u001b[39m}\u001b[39;00m\u001b[39m steminputs=nu\u001b[39m\u001b[39m{\u001b[39;00m\u001b[39mself\u001b[39m\u001b[39m.\u001b[39mObsID\u001b[39m}\u001b[39;00m\u001b[39m outdir=\u001b[39m\u001b[39m{\u001b[39;00m\u001b[39mself\u001b[39m\u001b[39m.\u001b[39mout_path\u001b[39m}\u001b[39;00m\u001b[39m obsmode=SCIENCE createexpomap=yes\u001b[39m\u001b[39m\"\"\"\u001b[39m\n\u001b[1;32m    <a href='file:///Users/sdbykov/work/xray_pulsars/nustar_sj0243/data_analysis/pipeline/../../nustar_scripts/nu_class.py?line=103'>104</a>\u001b[0m \u001b[39mif\u001b[39;00m \u001b[39mself\u001b[39m\u001b[39m.\u001b[39mObsID \u001b[39min\u001b[39;00m ObsList_bright:\n",
      "\u001b[0;31mException\u001b[0m: nupipeline has already been launched!"
     ]
    }
   ],
   "source": [
    "#######   nupipeline and regions   #######\n",
    "nu_obs = NustarObservation(ObsID, nu_path=Nu_path)\n",
    "nu_obs.nupipeline(ObsList_bright=ObsList_bright)\n",
    "nu_obs.make_regions()"
   ]
  },
  {
   "cell_type": "markdown",
   "metadata": {},
   "source": [
    "1. Run `nupipeline.sh` script in the `out{ObsID}/` directory and wait  until  the nupipeline exits. Check for the errors in nupipeline (it may take some time).\n",
    "2. Run `ds9_set.sh` sript to set the region files **for both detectors**. Detector `FPMA` would be on the left side of ds9 view, `FPMB` - on the right. Save regions as `srcA.reg`, `srcB.reg`, `bkgA.reg`, and `bkgB.reg` in `out{ObsID}/` folder.\n",
    "3. Run `ds9_check.sh` script to check the region files. "
   ]
  },
  {
   "cell_type": "markdown",
   "metadata": {},
   "source": [
    "-------"
   ]
  },
  {
   "cell_type": "markdown",
   "metadata": {},
   "source": [
    "### basic scientific products extraction\n",
    "extracts spectra and light curves from both modules. \n",
    "1. Run the cell and then follow instructions one cell below. \n",
    "2. Set parameters as you with (see `nuproducts` method docstring). You may change the energy range of interest, light curve binsize, and a number of other parameters."
   ]
  },
  {
   "cell_type": "code",
   "execution_count": 9,
   "metadata": {},
   "outputs": [
    {
     "name": "stdout",
     "output_type": "stream",
     "text": [
      "Creating command command: \n",
      "    nuproducts     indir=/Users/sdbykov/work/xray_pulsars/nustar_sj0243/nustar_products/out90201041002     instrument=FPMA     steminputs=nu90201041002     stemout=spe_and_lcA     outdir=spe_and_lc     srcregionfile=/Users/sdbykov/work/xray_pulsars/nustar_sj0243/nustar_products/out90201041002/srcA.reg     bkgextract=yes     bkgregionfile=/Users/sdbykov/work/xray_pulsars/nustar_sj0243/nustar_products/out90201041002/bkgA.reg     binsize=0.01     lcfile=DEFAULT     phafile=DEFAULT     bkglcfile=DEFAULT     bkgphafile=DEFAULT     imagefile=DEFAULT     usrgtifile=NONE     pilow=60 pihigh=1935     lcenergy=10     usrgtibarycorr=no    runmkarf=yes    runmkrmf=yes\n",
      "Writing to file:  spe_and_lcA\n",
      "Creating command command: \n",
      "    nuproducts     indir=/Users/sdbykov/work/xray_pulsars/nustar_sj0243/nustar_products/out90201041002     instrument=FPMB     steminputs=nu90201041002     stemout=spe_and_lcB     outdir=spe_and_lc     srcregionfile=/Users/sdbykov/work/xray_pulsars/nustar_sj0243/nustar_products/out90201041002/srcB.reg     bkgextract=yes     bkgregionfile=/Users/sdbykov/work/xray_pulsars/nustar_sj0243/nustar_products/out90201041002/bkgB.reg     binsize=0.01     lcfile=DEFAULT     phafile=DEFAULT     bkglcfile=DEFAULT     bkgphafile=DEFAULT     imagefile=DEFAULT     usrgtifile=NONE     pilow=60 pihigh=1935     lcenergy=10     usrgtibarycorr=no    runmkarf=yes    runmkrmf=yes\n",
      "Writing to file:  spe_and_lcB\n"
     ]
    }
   ],
   "source": [
    "prodpath_ave = 'spe_and_lc' #folder name for basic nustar products\n",
    "for mode in ['A', 'B']:      \n",
    "    nu_obs.nuproducts(outdir=prodpath_ave, mode=mode, stemout=prodpath_ave ,binsize='0.01') #set light curve bin size in seconds and other parameters of interest\n",
    "\n"
   ]
  },
  {
   "cell_type": "markdown",
   "metadata": {},
   "source": [
    "1. Go to `out{ObsID}/products` directory, run `spe_and_lcA.sh` and `spe_and_lcB.sh` scripts.\n",
    "2. Go to `out{ObsID}/products/spe_and_lc`, some L1 products should be created and almost prepared for analysis (need to excecute the next cell)"
   ]
  },
  {
   "cell_type": "markdown",
   "metadata": {},
   "source": [
    "-----"
   ]
  },
  {
   "cell_type": "markdown",
   "metadata": {},
   "source": [
    "1. Run the code to make scripts for the extraction of barycentred light curves and grouping energy spectra. Set parameters as you with (see functions annotations)."
   ]
  },
  {
   "cell_type": "code",
   "execution_count": 14,
   "metadata": {},
   "outputs": [
    {
     "name": "stdout",
     "output_type": "stream",
     "text": [
      "Creating command command: grppha infile=\"spe_and_lcA_sr.pha\" outfile=\"spe_and_lcA_sr.pi\"  comm=\"group min 25 & exit\" clobber=yes\n",
      "Writing to file:  grppha\n",
      "Creating command command: grppha infile=\"spe_and_lcB_sr.pha\" outfile=\"spe_and_lcB_sr.pi\"  comm=\"group min 25 & exit\" clobber=yes\n",
      "Writing to file:  grppha\n",
      "Creating command command:       barycorr         infile=spe_and_lcA_sr.lc         outfile=spe_and_lcA_sr.lc_bary        orbitfiles=/Users/sdbykov/work/xray_pulsars/nustar_sj0243/nustar_data/90201041002/auxil/nu90201041002_orb.fits.gz        barytime=no \n",
      "Writing to file:  barycorr\n",
      "Creating command command:       barycorr         infile=spe_and_lcB_sr.lc         outfile=spe_and_lcB_sr.lc_bary        orbitfiles=/Users/sdbykov/work/xray_pulsars/nustar_sj0243/nustar_data/90201041002/auxil/nu90201041002_orb.fits.gz        barytime=no \n",
      "Writing to file:  barycorr\n"
     ]
    }
   ],
   "source": [
    "\n",
    "lclist = [f'{prodpath_ave}{mode}_sr.lc' for mode in ['A', 'B']]\n",
    "spelist = [f'{prodpath_ave}{mode}_sr.pha' for mode in ['A', 'B']]\n",
    "\n",
    "nu_obs.grppha(infiles=spelist,\n",
    "              prodpath='spe_and_lc', group_min=25) #set minimum grouping of spectra\n",
    "\n",
    "nu_obs.barycorr(infiles=lclist, prodpath=prodpath_ave, barytime='no')\n"
   ]
  },
  {
   "cell_type": "markdown",
   "metadata": {},
   "source": [
    "1. Run  `grppha.sh` to regroup energy spectra.\n",
    "2. Run `barycorr.sh` to  make barycentred light curves of the source. \n",
    "\n",
    "\n",
    "**Note** if your source is bright, the light curves for background should probably be also barycentred and subtracted from the source light curves."
   ]
  },
  {
   "cell_type": "markdown",
   "metadata": {},
   "source": [
    "### sum light curves from modules A and B, correct times of arrival with orbital parameters if necessary"
   ]
  },
  {
   "cell_type": "code",
   "execution_count": null,
   "metadata": {},
   "outputs": [],
   "source": [
    "#sum light curves and make orbital correction\n",
    "nu_obs.lcmath(infiles=lclist,\n",
    "              outfile=prodpath_ave+'AB_sr.lc', prodpath=prodpath_ave, cmd_name='lcmath_orig',rewrite=True)\n",
    "\n",
    "nu_obs.lcmath(infiles=[x+'_bary' for x in lclist],\n",
    "              outfile=prodpath_ave+'AB_sr.lc_bary', prodpath=prodpath_ave, cmd_name='lcmath_bary', rewrite=True)\n"
   ]
  },
  {
   "cell_type": "code",
   "execution_count": null,
   "metadata": {},
   "outputs": [],
   "source": [
    "\n",
    "#first you launch lcmath and then apply orbital correction\n",
    "nu_obs.orb_correction_lc(\n",
    "    filename=prodpath_ave+'AB_sr.lc_bary', prodpath=prodpath_ave)\n"
   ]
  },
  {
   "cell_type": "markdown",
   "metadata": {},
   "source": [
    "### search for orbital period and make pulse profile of the light curve \n",
    " After you have found the period (as the maximum of chi2 value, or fitting efsearch results with gaussian, write the prriod for your ObsID into a dictionaty periods_val in init file of your pulsar)"
   ]
  },
  {
   "cell_type": "code",
   "execution_count": null,
   "metadata": {},
   "outputs": [],
   "source": [
    "####### orbital period search and light curve folding #######\n",
    "\n",
    "nu_obs.make_efsearch(prodpath_ave+'AB_sr.lc_bary_orb_corr',\n",
    "                     prodpath=prodpath_ave, p0='9.823', dres = '0.001', nper='64', nphase=16, cmd_name='efsearch_AB', rewrite=True)\n"
   ]
  },
  {
   "cell_type": "code",
   "execution_count": null,
   "metadata": {},
   "outputs": [],
   "source": [
    "period = periods_val[ObsID]\n",
    "nu_obs.make_efold(filename = prodpath_ave+'AB_sr.lc_bary_orb_corr', prodpath = prodpath_ave, period = str(period), cmd_name='efold_AB', nphase='128')"
   ]
  }
 ],
 "metadata": {
  "interpreter": {
   "hash": "767d51c1340bd893661ea55ea3124f6de3c7a262a8b4abca0554b478b1e2ff90"
  },
  "kernelspec": {
   "display_name": "Python 3.8.10 64-bit ('venv_science': conda)",
   "language": "python",
   "name": "python3"
  },
  "language_info": {
   "codemirror_mode": {
    "name": "ipython",
    "version": 3
   },
   "file_extension": ".py",
   "mimetype": "text/x-python",
   "name": "python",
   "nbconvert_exporter": "python",
   "pygments_lexer": "ipython3",
   "version": "3.10.4"
  },
  "orig_nbformat": 2
 },
 "nbformat": 4,
 "nbformat_minor": 2
}
