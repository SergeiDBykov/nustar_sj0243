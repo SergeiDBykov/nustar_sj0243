{
 "cells": [
  {
   "cell_type": "markdown",
   "metadata": {},
   "source": [
    "# NUSTAR SCIENTIFIC PHASE-RESOLVED PRODUCTS EXTRACTION"
   ]
  },
  {
   "cell_type": "markdown",
   "metadata": {},
   "source": [
    "### Initialize  NustarObservation object of particular ObsID\n",
    "choose the period, whether to shift the zero-phase time, etc"
   ]
  },
  {
   "cell_type": "code",
   "execution_count": 1,
   "metadata": {},
   "outputs": [],
   "source": [
    "import sys; sys.path.append('/sj0243/')"
   ]
  },
  {
   "cell_type": "code",
   "execution_count": 4,
   "metadata": {},
   "outputs": [
    {
     "name": "stdout",
     "output_type": "stream",
     "text": [
      "###\n",
      "Observation 90302319006 loaded successfully\n"
     ]
    }
   ],
   "source": [
    "from python_for_nustar.nu_core import np, plt, os, glob, scan_phase_resolved_products, reduce_list, fits\n",
    "from python_for_nustar.nu_class import NustarObservation\n",
    "from python_for_nustar.pipeline.sj0243_init import Nu_path, ObsList_bright, ObsList, periods_val\n",
    "\n",
    "ObsID = ObsList[2] #change here index to iterate over observations\n",
    "shift = 0  #0 or 1. shifting the phase-zero time to half the phase bin width\n",
    "period = periods_val[ObsID]\n",
    "nu_obs = NustarObservation(ObsID, nu_path=Nu_path)\n"
   ]
  },
  {
   "cell_type": "markdown",
   "metadata": {},
   "source": [
    "### GTI creation and extracting phase-resolved nustar products"
   ]
  },
  {
   "cell_type": "code",
   "execution_count": 10,
   "metadata": {
    "tags": []
   },
   "outputs": [
    {
     "name": "stdout",
     "output_type": "stream",
     "text": [
      "['gtis_shift_1/gti_2A.fits', 'gtis_shift_1/gti_11B.fits', 'gtis_shift_1/gti_13B.fits', 'gtis_shift_1/gti_4A.fits', 'gtis_shift_1/gti_8B.fits', 'gtis_shift_1/gti_15B.fits', 'gtis_shift_1/gti_6A.fits', 'gtis_shift_1/gti_12B.fits', 'gtis_shift_1/gti_1A.fits', 'gtis_shift_1/gti_3A.fits', 'gtis_shift_1/gti_10B.fits', 'gtis_shift_1/gti_14B.fits', 'gtis_shift_1/gti_7A.fits', 'gtis_shift_1/gti_5A.fits', 'gtis_shift_1/gti_9B.fits', 'gtis_shift_1/gti_16B.fits', 'gtis_shift_1/gti_5B.fits', 'gtis_shift_1/gti_9A.fits', 'gtis_shift_1/gti_16A.fits', 'gtis_shift_1/gti_14A.fits', 'gtis_shift_1/gti_7B.fits', 'gtis_shift_1/gti_3B.fits', 'gtis_shift_1/gti_10A.fits', 'gtis_shift_1/gti_12A.fits', 'gtis_shift_1/gti_1B.fits', 'gtis_shift_1/gti_15A.fits', 'gtis_shift_1/gti_6B.fits', 'gtis_shift_1/gti_4B.fits', 'gtis_shift_1/gti_8A.fits', 'gtis_shift_1/gti_13A.fits', 'gtis_shift_1/gti_2B.fits', 'gtis_shift_1/gti_11A.fits']\n",
      "GTIs have been created for module(s) AB with period 9.8234 and 10 bins, phase bin number 1\n",
      "GTIs have been created for module(s) AB with period 9.8234 and 10 bins, phase bin number 2\n",
      "GTIs have been created for module(s) AB with period 9.8234 and 10 bins, phase bin number 3\n",
      "GTIs have been created for module(s) AB with period 9.8234 and 10 bins, phase bin number 4\n",
      "GTIs have been created for module(s) AB with period 9.8234 and 10 bins, phase bin number 5\n",
      "GTIs have been created for module(s) AB with period 9.8234 and 10 bins, phase bin number 6\n",
      "GTIs have been created for module(s) AB with period 9.8234 and 10 bins, phase bin number 7\n",
      "GTIs have been created for module(s) AB with period 9.8234 and 10 bins, phase bin number 8\n",
      "GTIs have been created for module(s) AB with period 9.8234 and 10 bins, phase bin number 9\n",
      "GTIs have been created for module(s) AB with period 9.8234 and 10 bins, phase bin number 10\n",
      "GTIs have been created for module(s) AB with period 9.8234 and 10 bins\n",
      "Creating command command: \n",
      "    nuproducts     indir=/Users/sdbykov/work/xray_pulsars/sj0243_nu/results/out90302319006     instrument=FPMA     steminputs=nu90302319006     stemout=phase_resolved_bin1A     outdir=phase_resolved_shift_1     srcregionfile=/Users/sdbykov/work/xray_pulsars/sj0243_nu/results/out90302319006/srcA.reg     bkgextract=yes     bkgregionfile=/Users/sdbykov/work/xray_pulsars/sj0243_nu/results/out90302319006/bkgA.reg     binsize=0.01     lcfile=DEFAULT     phafile=DEFAULT     bkglcfile=DEFAULT     bkgphafile=DEFAULT     imagefile=DEFAULT     usrgtifile=/Users/sdbykov/work/xray_pulsars/sj0243_nu/results/out90302319006/products/spe_and_lc/gtis_shift_1/gti_1A.fits     pilow=60 pihigh=1935     usrgtibarycorr=no    runmkarf=yes    runmkrmf=yes\n",
      "Writing to file:  phase_resolved_shift_1A\n",
      "Creating command command: \n",
      "    nuproducts     indir=/Users/sdbykov/work/xray_pulsars/sj0243_nu/results/out90302319006     instrument=FPMA     steminputs=nu90302319006     stemout=phase_resolved_bin2A     outdir=phase_resolved_shift_1     srcregionfile=/Users/sdbykov/work/xray_pulsars/sj0243_nu/results/out90302319006/srcA.reg     bkgextract=yes     bkgregionfile=/Users/sdbykov/work/xray_pulsars/sj0243_nu/results/out90302319006/bkgA.reg     binsize=0.01     lcfile=DEFAULT     phafile=DEFAULT     bkglcfile=DEFAULT     bkgphafile=DEFAULT     imagefile=DEFAULT     usrgtifile=/Users/sdbykov/work/xray_pulsars/sj0243_nu/results/out90302319006/products/spe_and_lc/gtis_shift_1/gti_2A.fits     pilow=60 pihigh=1935     usrgtibarycorr=no    runmkarf=yes    runmkrmf=yes\n",
      "Writing to file:  phase_resolved_shift_1A\n",
      "Creating command command: \n",
      "    nuproducts     indir=/Users/sdbykov/work/xray_pulsars/sj0243_nu/results/out90302319006     instrument=FPMA     steminputs=nu90302319006     stemout=phase_resolved_bin3A     outdir=phase_resolved_shift_1     srcregionfile=/Users/sdbykov/work/xray_pulsars/sj0243_nu/results/out90302319006/srcA.reg     bkgextract=yes     bkgregionfile=/Users/sdbykov/work/xray_pulsars/sj0243_nu/results/out90302319006/bkgA.reg     binsize=0.01     lcfile=DEFAULT     phafile=DEFAULT     bkglcfile=DEFAULT     bkgphafile=DEFAULT     imagefile=DEFAULT     usrgtifile=/Users/sdbykov/work/xray_pulsars/sj0243_nu/results/out90302319006/products/spe_and_lc/gtis_shift_1/gti_3A.fits     pilow=60 pihigh=1935     usrgtibarycorr=no    runmkarf=yes    runmkrmf=yes\n",
      "Writing to file:  phase_resolved_shift_1A\n",
      "Creating command command: \n",
      "    nuproducts     indir=/Users/sdbykov/work/xray_pulsars/sj0243_nu/results/out90302319006     instrument=FPMA     steminputs=nu90302319006     stemout=phase_resolved_bin4A     outdir=phase_resolved_shift_1     srcregionfile=/Users/sdbykov/work/xray_pulsars/sj0243_nu/results/out90302319006/srcA.reg     bkgextract=yes     bkgregionfile=/Users/sdbykov/work/xray_pulsars/sj0243_nu/results/out90302319006/bkgA.reg     binsize=0.01     lcfile=DEFAULT     phafile=DEFAULT     bkglcfile=DEFAULT     bkgphafile=DEFAULT     imagefile=DEFAULT     usrgtifile=/Users/sdbykov/work/xray_pulsars/sj0243_nu/results/out90302319006/products/spe_and_lc/gtis_shift_1/gti_4A.fits     pilow=60 pihigh=1935     usrgtibarycorr=no    runmkarf=yes    runmkrmf=yes\n",
      "Writing to file:  phase_resolved_shift_1A\n",
      "Creating command command: \n",
      "    nuproducts     indir=/Users/sdbykov/work/xray_pulsars/sj0243_nu/results/out90302319006     instrument=FPMA     steminputs=nu90302319006     stemout=phase_resolved_bin5A     outdir=phase_resolved_shift_1     srcregionfile=/Users/sdbykov/work/xray_pulsars/sj0243_nu/results/out90302319006/srcA.reg     bkgextract=yes     bkgregionfile=/Users/sdbykov/work/xray_pulsars/sj0243_nu/results/out90302319006/bkgA.reg     binsize=0.01     lcfile=DEFAULT     phafile=DEFAULT     bkglcfile=DEFAULT     bkgphafile=DEFAULT     imagefile=DEFAULT     usrgtifile=/Users/sdbykov/work/xray_pulsars/sj0243_nu/results/out90302319006/products/spe_and_lc/gtis_shift_1/gti_5A.fits     pilow=60 pihigh=1935     usrgtibarycorr=no    runmkarf=yes    runmkrmf=yes\n",
      "Writing to file:  phase_resolved_shift_1A\n",
      "Creating command command: \n",
      "    nuproducts     indir=/Users/sdbykov/work/xray_pulsars/sj0243_nu/results/out90302319006     instrument=FPMA     steminputs=nu90302319006     stemout=phase_resolved_bin6A     outdir=phase_resolved_shift_1     srcregionfile=/Users/sdbykov/work/xray_pulsars/sj0243_nu/results/out90302319006/srcA.reg     bkgextract=yes     bkgregionfile=/Users/sdbykov/work/xray_pulsars/sj0243_nu/results/out90302319006/bkgA.reg     binsize=0.01     lcfile=DEFAULT     phafile=DEFAULT     bkglcfile=DEFAULT     bkgphafile=DEFAULT     imagefile=DEFAULT     usrgtifile=/Users/sdbykov/work/xray_pulsars/sj0243_nu/results/out90302319006/products/spe_and_lc/gtis_shift_1/gti_6A.fits     pilow=60 pihigh=1935     usrgtibarycorr=no    runmkarf=yes    runmkrmf=yes\n",
      "Writing to file:  phase_resolved_shift_1A\n",
      "Creating command command: \n",
      "    nuproducts     indir=/Users/sdbykov/work/xray_pulsars/sj0243_nu/results/out90302319006     instrument=FPMA     steminputs=nu90302319006     stemout=phase_resolved_bin7A     outdir=phase_resolved_shift_1     srcregionfile=/Users/sdbykov/work/xray_pulsars/sj0243_nu/results/out90302319006/srcA.reg     bkgextract=yes     bkgregionfile=/Users/sdbykov/work/xray_pulsars/sj0243_nu/results/out90302319006/bkgA.reg     binsize=0.01     lcfile=DEFAULT     phafile=DEFAULT     bkglcfile=DEFAULT     bkgphafile=DEFAULT     imagefile=DEFAULT     usrgtifile=/Users/sdbykov/work/xray_pulsars/sj0243_nu/results/out90302319006/products/spe_and_lc/gtis_shift_1/gti_7A.fits     pilow=60 pihigh=1935     usrgtibarycorr=no    runmkarf=yes    runmkrmf=yes\n",
      "Writing to file:  phase_resolved_shift_1A\n",
      "Creating command command: \n",
      "    nuproducts     indir=/Users/sdbykov/work/xray_pulsars/sj0243_nu/results/out90302319006     instrument=FPMA     steminputs=nu90302319006     stemout=phase_resolved_bin8A     outdir=phase_resolved_shift_1     srcregionfile=/Users/sdbykov/work/xray_pulsars/sj0243_nu/results/out90302319006/srcA.reg     bkgextract=yes     bkgregionfile=/Users/sdbykov/work/xray_pulsars/sj0243_nu/results/out90302319006/bkgA.reg     binsize=0.01     lcfile=DEFAULT     phafile=DEFAULT     bkglcfile=DEFAULT     bkgphafile=DEFAULT     imagefile=DEFAULT     usrgtifile=/Users/sdbykov/work/xray_pulsars/sj0243_nu/results/out90302319006/products/spe_and_lc/gtis_shift_1/gti_8A.fits     pilow=60 pihigh=1935     usrgtibarycorr=no    runmkarf=yes    runmkrmf=yes\n",
      "Writing to file:  phase_resolved_shift_1A\n",
      "Creating command command: \n",
      "    nuproducts     indir=/Users/sdbykov/work/xray_pulsars/sj0243_nu/results/out90302319006     instrument=FPMA     steminputs=nu90302319006     stemout=phase_resolved_bin9A     outdir=phase_resolved_shift_1     srcregionfile=/Users/sdbykov/work/xray_pulsars/sj0243_nu/results/out90302319006/srcA.reg     bkgextract=yes     bkgregionfile=/Users/sdbykov/work/xray_pulsars/sj0243_nu/results/out90302319006/bkgA.reg     binsize=0.01     lcfile=DEFAULT     phafile=DEFAULT     bkglcfile=DEFAULT     bkgphafile=DEFAULT     imagefile=DEFAULT     usrgtifile=/Users/sdbykov/work/xray_pulsars/sj0243_nu/results/out90302319006/products/spe_and_lc/gtis_shift_1/gti_9A.fits     pilow=60 pihigh=1935     usrgtibarycorr=no    runmkarf=yes    runmkrmf=yes\n",
      "Writing to file:  phase_resolved_shift_1A\n",
      "Creating command command: \n",
      "    nuproducts     indir=/Users/sdbykov/work/xray_pulsars/sj0243_nu/results/out90302319006     instrument=FPMA     steminputs=nu90302319006     stemout=phase_resolved_bin10A     outdir=phase_resolved_shift_1     srcregionfile=/Users/sdbykov/work/xray_pulsars/sj0243_nu/results/out90302319006/srcA.reg     bkgextract=yes     bkgregionfile=/Users/sdbykov/work/xray_pulsars/sj0243_nu/results/out90302319006/bkgA.reg     binsize=0.01     lcfile=DEFAULT     phafile=DEFAULT     bkglcfile=DEFAULT     bkgphafile=DEFAULT     imagefile=DEFAULT     usrgtifile=/Users/sdbykov/work/xray_pulsars/sj0243_nu/results/out90302319006/products/spe_and_lc/gtis_shift_1/gti_10A.fits     pilow=60 pihigh=1935     usrgtibarycorr=no    runmkarf=yes    runmkrmf=yes\n",
      "Writing to file:  phase_resolved_shift_1A\n",
      "Creating command command: \n",
      "    nuproducts     indir=/Users/sdbykov/work/xray_pulsars/sj0243_nu/results/out90302319006     instrument=FPMB     steminputs=nu90302319006     stemout=phase_resolved_bin1B     outdir=phase_resolved_shift_1     srcregionfile=/Users/sdbykov/work/xray_pulsars/sj0243_nu/results/out90302319006/srcB.reg     bkgextract=yes     bkgregionfile=/Users/sdbykov/work/xray_pulsars/sj0243_nu/results/out90302319006/bkgB.reg     binsize=0.01     lcfile=DEFAULT     phafile=DEFAULT     bkglcfile=DEFAULT     bkgphafile=DEFAULT     imagefile=DEFAULT     usrgtifile=/Users/sdbykov/work/xray_pulsars/sj0243_nu/results/out90302319006/products/spe_and_lc/gtis_shift_1/gti_1B.fits     pilow=60 pihigh=1935     usrgtibarycorr=no    runmkarf=yes    runmkrmf=yes\n",
      "Writing to file:  phase_resolved_shift_1B\n",
      "Creating command command: \n",
      "    nuproducts     indir=/Users/sdbykov/work/xray_pulsars/sj0243_nu/results/out90302319006     instrument=FPMB     steminputs=nu90302319006     stemout=phase_resolved_bin2B     outdir=phase_resolved_shift_1     srcregionfile=/Users/sdbykov/work/xray_pulsars/sj0243_nu/results/out90302319006/srcB.reg     bkgextract=yes     bkgregionfile=/Users/sdbykov/work/xray_pulsars/sj0243_nu/results/out90302319006/bkgB.reg     binsize=0.01     lcfile=DEFAULT     phafile=DEFAULT     bkglcfile=DEFAULT     bkgphafile=DEFAULT     imagefile=DEFAULT     usrgtifile=/Users/sdbykov/work/xray_pulsars/sj0243_nu/results/out90302319006/products/spe_and_lc/gtis_shift_1/gti_2B.fits     pilow=60 pihigh=1935     usrgtibarycorr=no    runmkarf=yes    runmkrmf=yes\n",
      "Writing to file:  phase_resolved_shift_1B\n",
      "Creating command command: \n",
      "    nuproducts     indir=/Users/sdbykov/work/xray_pulsars/sj0243_nu/results/out90302319006     instrument=FPMB     steminputs=nu90302319006     stemout=phase_resolved_bin3B     outdir=phase_resolved_shift_1     srcregionfile=/Users/sdbykov/work/xray_pulsars/sj0243_nu/results/out90302319006/srcB.reg     bkgextract=yes     bkgregionfile=/Users/sdbykov/work/xray_pulsars/sj0243_nu/results/out90302319006/bkgB.reg     binsize=0.01     lcfile=DEFAULT     phafile=DEFAULT     bkglcfile=DEFAULT     bkgphafile=DEFAULT     imagefile=DEFAULT     usrgtifile=/Users/sdbykov/work/xray_pulsars/sj0243_nu/results/out90302319006/products/spe_and_lc/gtis_shift_1/gti_3B.fits     pilow=60 pihigh=1935     usrgtibarycorr=no    runmkarf=yes    runmkrmf=yes\n",
      "Writing to file:  phase_resolved_shift_1B\n",
      "Creating command command: \n",
      "    nuproducts     indir=/Users/sdbykov/work/xray_pulsars/sj0243_nu/results/out90302319006     instrument=FPMB     steminputs=nu90302319006     stemout=phase_resolved_bin4B     outdir=phase_resolved_shift_1     srcregionfile=/Users/sdbykov/work/xray_pulsars/sj0243_nu/results/out90302319006/srcB.reg     bkgextract=yes     bkgregionfile=/Users/sdbykov/work/xray_pulsars/sj0243_nu/results/out90302319006/bkgB.reg     binsize=0.01     lcfile=DEFAULT     phafile=DEFAULT     bkglcfile=DEFAULT     bkgphafile=DEFAULT     imagefile=DEFAULT     usrgtifile=/Users/sdbykov/work/xray_pulsars/sj0243_nu/results/out90302319006/products/spe_and_lc/gtis_shift_1/gti_4B.fits     pilow=60 pihigh=1935     usrgtibarycorr=no    runmkarf=yes    runmkrmf=yes\n",
      "Writing to file:  phase_resolved_shift_1B\n",
      "Creating command command: \n",
      "    nuproducts     indir=/Users/sdbykov/work/xray_pulsars/sj0243_nu/results/out90302319006     instrument=FPMB     steminputs=nu90302319006     stemout=phase_resolved_bin5B     outdir=phase_resolved_shift_1     srcregionfile=/Users/sdbykov/work/xray_pulsars/sj0243_nu/results/out90302319006/srcB.reg     bkgextract=yes     bkgregionfile=/Users/sdbykov/work/xray_pulsars/sj0243_nu/results/out90302319006/bkgB.reg     binsize=0.01     lcfile=DEFAULT     phafile=DEFAULT     bkglcfile=DEFAULT     bkgphafile=DEFAULT     imagefile=DEFAULT     usrgtifile=/Users/sdbykov/work/xray_pulsars/sj0243_nu/results/out90302319006/products/spe_and_lc/gtis_shift_1/gti_5B.fits     pilow=60 pihigh=1935     usrgtibarycorr=no    runmkarf=yes    runmkrmf=yes\n",
      "Writing to file:  phase_resolved_shift_1B\n",
      "Creating command command: \n",
      "    nuproducts     indir=/Users/sdbykov/work/xray_pulsars/sj0243_nu/results/out90302319006     instrument=FPMB     steminputs=nu90302319006     stemout=phase_resolved_bin6B     outdir=phase_resolved_shift_1     srcregionfile=/Users/sdbykov/work/xray_pulsars/sj0243_nu/results/out90302319006/srcB.reg     bkgextract=yes     bkgregionfile=/Users/sdbykov/work/xray_pulsars/sj0243_nu/results/out90302319006/bkgB.reg     binsize=0.01     lcfile=DEFAULT     phafile=DEFAULT     bkglcfile=DEFAULT     bkgphafile=DEFAULT     imagefile=DEFAULT     usrgtifile=/Users/sdbykov/work/xray_pulsars/sj0243_nu/results/out90302319006/products/spe_and_lc/gtis_shift_1/gti_6B.fits     pilow=60 pihigh=1935     usrgtibarycorr=no    runmkarf=yes    runmkrmf=yes\n",
      "Writing to file:  phase_resolved_shift_1B\n",
      "Creating command command: \n",
      "    nuproducts     indir=/Users/sdbykov/work/xray_pulsars/sj0243_nu/results/out90302319006     instrument=FPMB     steminputs=nu90302319006     stemout=phase_resolved_bin7B     outdir=phase_resolved_shift_1     srcregionfile=/Users/sdbykov/work/xray_pulsars/sj0243_nu/results/out90302319006/srcB.reg     bkgextract=yes     bkgregionfile=/Users/sdbykov/work/xray_pulsars/sj0243_nu/results/out90302319006/bkgB.reg     binsize=0.01     lcfile=DEFAULT     phafile=DEFAULT     bkglcfile=DEFAULT     bkgphafile=DEFAULT     imagefile=DEFAULT     usrgtifile=/Users/sdbykov/work/xray_pulsars/sj0243_nu/results/out90302319006/products/spe_and_lc/gtis_shift_1/gti_7B.fits     pilow=60 pihigh=1935     usrgtibarycorr=no    runmkarf=yes    runmkrmf=yes\n",
      "Writing to file:  phase_resolved_shift_1B\n",
      "Creating command command: \n",
      "    nuproducts     indir=/Users/sdbykov/work/xray_pulsars/sj0243_nu/results/out90302319006     instrument=FPMB     steminputs=nu90302319006     stemout=phase_resolved_bin8B     outdir=phase_resolved_shift_1     srcregionfile=/Users/sdbykov/work/xray_pulsars/sj0243_nu/results/out90302319006/srcB.reg     bkgextract=yes     bkgregionfile=/Users/sdbykov/work/xray_pulsars/sj0243_nu/results/out90302319006/bkgB.reg     binsize=0.01     lcfile=DEFAULT     phafile=DEFAULT     bkglcfile=DEFAULT     bkgphafile=DEFAULT     imagefile=DEFAULT     usrgtifile=/Users/sdbykov/work/xray_pulsars/sj0243_nu/results/out90302319006/products/spe_and_lc/gtis_shift_1/gti_8B.fits     pilow=60 pihigh=1935     usrgtibarycorr=no    runmkarf=yes    runmkrmf=yes\n",
      "Writing to file:  phase_resolved_shift_1B\n",
      "Creating command command: \n",
      "    nuproducts     indir=/Users/sdbykov/work/xray_pulsars/sj0243_nu/results/out90302319006     instrument=FPMB     steminputs=nu90302319006     stemout=phase_resolved_bin9B     outdir=phase_resolved_shift_1     srcregionfile=/Users/sdbykov/work/xray_pulsars/sj0243_nu/results/out90302319006/srcB.reg     bkgextract=yes     bkgregionfile=/Users/sdbykov/work/xray_pulsars/sj0243_nu/results/out90302319006/bkgB.reg     binsize=0.01     lcfile=DEFAULT     phafile=DEFAULT     bkglcfile=DEFAULT     bkgphafile=DEFAULT     imagefile=DEFAULT     usrgtifile=/Users/sdbykov/work/xray_pulsars/sj0243_nu/results/out90302319006/products/spe_and_lc/gtis_shift_1/gti_9B.fits     pilow=60 pihigh=1935     usrgtibarycorr=no    runmkarf=yes    runmkrmf=yes\n",
      "Writing to file:  phase_resolved_shift_1B\n",
      "Creating command command: \n",
      "    nuproducts     indir=/Users/sdbykov/work/xray_pulsars/sj0243_nu/results/out90302319006     instrument=FPMB     steminputs=nu90302319006     stemout=phase_resolved_bin10B     outdir=phase_resolved_shift_1     srcregionfile=/Users/sdbykov/work/xray_pulsars/sj0243_nu/results/out90302319006/srcB.reg     bkgextract=yes     bkgregionfile=/Users/sdbykov/work/xray_pulsars/sj0243_nu/results/out90302319006/bkgB.reg     binsize=0.01     lcfile=DEFAULT     phafile=DEFAULT     bkglcfile=DEFAULT     bkgphafile=DEFAULT     imagefile=DEFAULT     usrgtifile=/Users/sdbykov/work/xray_pulsars/sj0243_nu/results/out90302319006/products/spe_and_lc/gtis_shift_1/gti_10B.fits     pilow=60 pihigh=1935     usrgtibarycorr=no    runmkarf=yes    runmkrmf=yes\n",
      "Writing to file:  phase_resolved_shift_1B\n"
     ]
    }
   ],
   "source": [
    "prodpath_ave = 'spe_and_lc' #from light curves in this folder we will make GTIs\n",
    "\n",
    "if shift == 0:\n",
    "    prodpath_ph_res = 'phase_resolved' \n",
    "    nu_obs.make_gti_from_lc(prodpath=prodpath_ave, mode='AB', period=period, phase_bins=10, half_shift=0, outfolder = 'gtis/' )\n",
    "    for mode in ['A','B']:\n",
    "        nu_obs.phase_resolved_spectra(gtipath=prodpath_ave+'/gtis', mode=mode, folder='phase_resolved')\n",
    "elif shift == 1:\n",
    "    prodpath_ph_res = 'phase_resolved_shift_1' \n",
    "    nu_obs.make_gti_from_lc(prodpath=prodpath_ave, mode='AB', period=period, phase_bins=10, half_shift=1, outfolder = 'gtis_shift_1/' )\n",
    "    for mode in ['A','B']:\n",
    "        nu_obs.phase_resolved_spectra(gtipath=prodpath_ave+'/gtis_shift_1', mode=mode, folder='phase_resolved_shift_1')\n",
    "\n",
    "os.chdir(prodpath_ph_res)\n",
    "open_dir_in_term()"
   ]
  },
  {
   "cell_type": "markdown",
   "metadata": {},
   "source": [
    " This little fucntion make a list of products filenames, such as the names of spectral files of each phase, light curves of each phase, etc"
   ]
  },
  {
   "cell_type": "code",
   "execution_count": 11,
   "metadata": {},
   "outputs": [],
   "source": [
    "\n",
    "lclist, lclist_bary, lclistorb_corr, spelist, propname_per_bin = scan_phase_resolved_products(prodpath=prodpath_ph_res, n_phase = 10)\n"
   ]
  },
  {
   "cell_type": "markdown",
   "metadata": {},
   "source": [
    "### sum all thee lightcurves, barycenter them, and correct for orbital motion\n"
   ]
  },
  {
   "cell_type": "code",
   "execution_count": 12,
   "metadata": {},
   "outputs": [
    {
     "name": "stdout",
     "output_type": "stream",
     "text": [
      "Creating command command: \n",
      "        lcmath         infile=phase_resolved_bin1A_sr.lc         bgfile = phase_resolved_bin1B_sr.lc         outfile = phase_resolved_bin1AB_sr.lc         multi = 0.5         multb = 0.5         addsubr = yes\n",
      "        \n",
      "Writing to file:  lcmath_orig\n",
      "Creating command command: \n",
      "        lcmath         infile=phase_resolved_bin2A_sr.lc         bgfile = phase_resolved_bin2B_sr.lc         outfile = phase_resolved_bin2AB_sr.lc         multi = 0.5         multb = 0.5         addsubr = yes\n",
      "        \n",
      "Writing to file:  lcmath_orig\n",
      "Creating command command: \n",
      "        lcmath         infile=phase_resolved_bin3A_sr.lc         bgfile = phase_resolved_bin3B_sr.lc         outfile = phase_resolved_bin3AB_sr.lc         multi = 0.5         multb = 0.5         addsubr = yes\n",
      "        \n",
      "Writing to file:  lcmath_orig\n",
      "Creating command command: \n",
      "        lcmath         infile=phase_resolved_bin4A_sr.lc         bgfile = phase_resolved_bin4B_sr.lc         outfile = phase_resolved_bin4AB_sr.lc         multi = 0.5         multb = 0.5         addsubr = yes\n",
      "        \n",
      "Writing to file:  lcmath_orig\n",
      "Creating command command: \n",
      "        lcmath         infile=phase_resolved_bin5A_sr.lc         bgfile = phase_resolved_bin5B_sr.lc         outfile = phase_resolved_bin5AB_sr.lc         multi = 0.5         multb = 0.5         addsubr = yes\n",
      "        \n",
      "Writing to file:  lcmath_orig\n",
      "Creating command command: \n",
      "        lcmath         infile=phase_resolved_bin6A_sr.lc         bgfile = phase_resolved_bin6B_sr.lc         outfile = phase_resolved_bin6AB_sr.lc         multi = 0.5         multb = 0.5         addsubr = yes\n",
      "        \n",
      "Writing to file:  lcmath_orig\n",
      "Creating command command: \n",
      "        lcmath         infile=phase_resolved_bin7A_sr.lc         bgfile = phase_resolved_bin7B_sr.lc         outfile = phase_resolved_bin7AB_sr.lc         multi = 0.5         multb = 0.5         addsubr = yes\n",
      "        \n",
      "Writing to file:  lcmath_orig\n",
      "Creating command command: \n",
      "        lcmath         infile=phase_resolved_bin8A_sr.lc         bgfile = phase_resolved_bin8B_sr.lc         outfile = phase_resolved_bin8AB_sr.lc         multi = 0.5         multb = 0.5         addsubr = yes\n",
      "        \n",
      "Writing to file:  lcmath_orig\n",
      "Creating command command: \n",
      "        lcmath         infile=phase_resolved_bin9A_sr.lc         bgfile = phase_resolved_bin9B_sr.lc         outfile = phase_resolved_bin9AB_sr.lc         multi = 0.5         multb = 0.5         addsubr = yes\n",
      "        \n",
      "Writing to file:  lcmath_orig\n",
      "Creating command command: \n",
      "        lcmath         infile=phase_resolved_bin10A_sr.lc         bgfile = phase_resolved_bin10B_sr.lc         outfile = phase_resolved_bin10AB_sr.lc         multi = 0.5         multb = 0.5         addsubr = yes\n",
      "        \n",
      "Writing to file:  lcmath_orig\n",
      "Creating command command:       barycorr         infile=phase_resolved_bin1AB_sr.lc         outfile=phase_resolved_bin1AB_sr.lc_bary        orbitfiles=/Users/sdbykov/work/xray_pulsars/sj0243_nu/data/90302319006/auxil/nu90302319006_orb.fits.gz        barytime=no \n",
      "Writing to file:  barycorr\n",
      "Creating command command:       barycorr         infile=phase_resolved_bin2AB_sr.lc         outfile=phase_resolved_bin2AB_sr.lc_bary        orbitfiles=/Users/sdbykov/work/xray_pulsars/sj0243_nu/data/90302319006/auxil/nu90302319006_orb.fits.gz        barytime=no \n",
      "Writing to file:  barycorr\n",
      "Creating command command:       barycorr         infile=phase_resolved_bin3AB_sr.lc         outfile=phase_resolved_bin3AB_sr.lc_bary        orbitfiles=/Users/sdbykov/work/xray_pulsars/sj0243_nu/data/90302319006/auxil/nu90302319006_orb.fits.gz        barytime=no \n",
      "Writing to file:  barycorr\n",
      "Creating command command:       barycorr         infile=phase_resolved_bin4AB_sr.lc         outfile=phase_resolved_bin4AB_sr.lc_bary        orbitfiles=/Users/sdbykov/work/xray_pulsars/sj0243_nu/data/90302319006/auxil/nu90302319006_orb.fits.gz        barytime=no \n",
      "Writing to file:  barycorr\n",
      "Creating command command:       barycorr         infile=phase_resolved_bin5AB_sr.lc         outfile=phase_resolved_bin5AB_sr.lc_bary        orbitfiles=/Users/sdbykov/work/xray_pulsars/sj0243_nu/data/90302319006/auxil/nu90302319006_orb.fits.gz        barytime=no \n",
      "Writing to file:  barycorr\n",
      "Creating command command:       barycorr         infile=phase_resolved_bin6AB_sr.lc         outfile=phase_resolved_bin6AB_sr.lc_bary        orbitfiles=/Users/sdbykov/work/xray_pulsars/sj0243_nu/data/90302319006/auxil/nu90302319006_orb.fits.gz        barytime=no \n",
      "Writing to file:  barycorr\n",
      "Creating command command:       barycorr         infile=phase_resolved_bin7AB_sr.lc         outfile=phase_resolved_bin7AB_sr.lc_bary        orbitfiles=/Users/sdbykov/work/xray_pulsars/sj0243_nu/data/90302319006/auxil/nu90302319006_orb.fits.gz        barytime=no \n",
      "Writing to file:  barycorr\n",
      "Creating command command:       barycorr         infile=phase_resolved_bin8AB_sr.lc         outfile=phase_resolved_bin8AB_sr.lc_bary        orbitfiles=/Users/sdbykov/work/xray_pulsars/sj0243_nu/data/90302319006/auxil/nu90302319006_orb.fits.gz        barytime=no \n",
      "Writing to file:  barycorr\n",
      "Creating command command:       barycorr         infile=phase_resolved_bin9AB_sr.lc         outfile=phase_resolved_bin9AB_sr.lc_bary        orbitfiles=/Users/sdbykov/work/xray_pulsars/sj0243_nu/data/90302319006/auxil/nu90302319006_orb.fits.gz        barytime=no \n",
      "Writing to file:  barycorr\n",
      "Creating command command:       barycorr         infile=phase_resolved_bin10AB_sr.lc         outfile=phase_resolved_bin10AB_sr.lc_bary        orbitfiles=/Users/sdbykov/work/xray_pulsars/sj0243_nu/data/90302319006/auxil/nu90302319006_orb.fits.gz        barytime=no \n",
      "Writing to file:  barycorr\n"
     ]
    }
   ],
   "source": [
    "\n",
    "for pair in lclist:\n",
    "    binnum = pair[0].split('_')[2][3:-1]\n",
    "    nu_obs.lcmath(infiles=pair, outfile=f'phase_resolved_bin{binnum}AB_sr.lc', prodpath=prodpath_ph_res, cmd_name='lcmath_orig', rewrite=False)\n",
    "\n",
    "for pair in propname_per_bin(['AB'], postfix = 'lc'):\n",
    "    nu_obs.barycorr(infiles=pair, prodpath=prodpath_ph_res, barytime='no', rewrite=False)\n"
   ]
  },
  {
   "cell_type": "code",
   "execution_count": 13,
   "metadata": {},
   "outputs": [
    {
     "name": "stdout",
     "output_type": "stream",
     "text": [
      "no orbital parameters given, copying the original file without changes\n",
      "no orbital parameters given, copying the original file without changes\n",
      "no orbital parameters given, copying the original file without changes\n",
      "no orbital parameters given, copying the original file without changes\n",
      "no orbital parameters given, copying the original file without changes\n",
      "no orbital parameters given, copying the original file without changes\n",
      "no orbital parameters given, copying the original file without changes\n",
      "no orbital parameters given, copying the original file without changes\n",
      "no orbital parameters given, copying the original file without changes\n",
      "no orbital parameters given, copying the original file without changes\n"
     ]
    }
   ],
   "source": [
    "\n",
    "for pair in propname_per_bin(['AB'], postfix = 'lc_bary'):\n",
    "    nu_obs.orb_correction_lc(\n",
    "    filename=pair[0], prodpath=prodpath_ph_res)\n"
   ]
  },
  {
   "cell_type": "markdown",
   "metadata": {},
   "source": [
    "### make pulse profiles of each phase bin. Needed to check if the phases are correctly set\n"
   ]
  },
  {
   "cell_type": "code",
   "execution_count": 14,
   "metadata": {},
   "outputs": [
    {
     "name": "stdout",
     "output_type": "stream",
     "text": [
      "Creating command command: \n",
      "            efold             nser = 1             norm = 0             cfile1 = phase_resolved_bin1AB_sr.lc_bary_orb_corr             dper = 9.8234             nphase = 128             nbint = INDEF             nintfm = INDEF             outfileroot = 'default'             window = '-'             sepoch = 0             plot = no              outfile = phase_resolved_bin1AB_sr.lc_bary_orb_corr_nphase_128.efold\n",
      "Writing to file:  efold\n",
      "Creating command command: \n",
      "            efold             nser = 1             norm = 0             cfile1 = phase_resolved_bin2AB_sr.lc_bary_orb_corr             dper = 9.8234             nphase = 128             nbint = INDEF             nintfm = INDEF             outfileroot = 'default'             window = '-'             sepoch = 0             plot = no              outfile = phase_resolved_bin2AB_sr.lc_bary_orb_corr_nphase_128.efold\n",
      "Writing to file:  efold\n",
      "Creating command command: \n",
      "            efold             nser = 1             norm = 0             cfile1 = phase_resolved_bin3AB_sr.lc_bary_orb_corr             dper = 9.8234             nphase = 128             nbint = INDEF             nintfm = INDEF             outfileroot = 'default'             window = '-'             sepoch = 0             plot = no              outfile = phase_resolved_bin3AB_sr.lc_bary_orb_corr_nphase_128.efold\n",
      "Writing to file:  efold\n",
      "Creating command command: \n",
      "            efold             nser = 1             norm = 0             cfile1 = phase_resolved_bin4AB_sr.lc_bary_orb_corr             dper = 9.8234             nphase = 128             nbint = INDEF             nintfm = INDEF             outfileroot = 'default'             window = '-'             sepoch = 0             plot = no              outfile = phase_resolved_bin4AB_sr.lc_bary_orb_corr_nphase_128.efold\n",
      "Writing to file:  efold\n",
      "Creating command command: \n",
      "            efold             nser = 1             norm = 0             cfile1 = phase_resolved_bin5AB_sr.lc_bary_orb_corr             dper = 9.8234             nphase = 128             nbint = INDEF             nintfm = INDEF             outfileroot = 'default'             window = '-'             sepoch = 0             plot = no              outfile = phase_resolved_bin5AB_sr.lc_bary_orb_corr_nphase_128.efold\n",
      "Writing to file:  efold\n",
      "Creating command command: \n",
      "            efold             nser = 1             norm = 0             cfile1 = phase_resolved_bin6AB_sr.lc_bary_orb_corr             dper = 9.8234             nphase = 128             nbint = INDEF             nintfm = INDEF             outfileroot = 'default'             window = '-'             sepoch = 0             plot = no              outfile = phase_resolved_bin6AB_sr.lc_bary_orb_corr_nphase_128.efold\n",
      "Writing to file:  efold\n",
      "Creating command command: \n",
      "            efold             nser = 1             norm = 0             cfile1 = phase_resolved_bin7AB_sr.lc_bary_orb_corr             dper = 9.8234             nphase = 128             nbint = INDEF             nintfm = INDEF             outfileroot = 'default'             window = '-'             sepoch = 0             plot = no              outfile = phase_resolved_bin7AB_sr.lc_bary_orb_corr_nphase_128.efold\n",
      "Writing to file:  efold\n",
      "Creating command command: \n",
      "            efold             nser = 1             norm = 0             cfile1 = phase_resolved_bin8AB_sr.lc_bary_orb_corr             dper = 9.8234             nphase = 128             nbint = INDEF             nintfm = INDEF             outfileroot = 'default'             window = '-'             sepoch = 0             plot = no              outfile = phase_resolved_bin8AB_sr.lc_bary_orb_corr_nphase_128.efold\n",
      "Writing to file:  efold\n",
      "Creating command command: \n",
      "            efold             nser = 1             norm = 0             cfile1 = phase_resolved_bin9AB_sr.lc_bary_orb_corr             dper = 9.8234             nphase = 128             nbint = INDEF             nintfm = INDEF             outfileroot = 'default'             window = '-'             sepoch = 0             plot = no              outfile = phase_resolved_bin9AB_sr.lc_bary_orb_corr_nphase_128.efold\n",
      "Writing to file:  efold\n",
      "Creating command command: \n",
      "            efold             nser = 1             norm = 0             cfile1 = phase_resolved_bin10AB_sr.lc_bary_orb_corr             dper = 9.8234             nphase = 128             nbint = INDEF             nintfm = INDEF             outfileroot = 'default'             window = '-'             sepoch = 0             plot = no              outfile = phase_resolved_bin10AB_sr.lc_bary_orb_corr_nphase_128.efold\n",
      "Writing to file:  efold\n"
     ]
    }
   ],
   "source": [
    "for pair in propname_per_bin(['AB'], postfix = 'lc_bary_orb_corr'):\n",
    "    nu_obs.make_efold(filename = pair[0], prodpath = prodpath_ph_res, period = period, cmd_name='efold', nphase='128', rewrite=False)"
   ]
  },
  {
   "cell_type": "markdown",
   "metadata": {},
   "source": [
    "### check if thee pulse profile of phases are consequal and do not overlap"
   ]
  },
  {
   "cell_type": "code",
   "execution_count": 15,
   "metadata": {},
   "outputs": [
    {
     "name": "stdout",
     "output_type": "stream",
     "text": [
      "working with phase_resolved_bin1AB_sr.lc_bary_orb_corr_nphase_128.efold\n",
      "working with phase_resolved_bin2AB_sr.lc_bary_orb_corr_nphase_128.efold\n",
      "working with phase_resolved_bin3AB_sr.lc_bary_orb_corr_nphase_128.efold\n",
      "working with phase_resolved_bin4AB_sr.lc_bary_orb_corr_nphase_128.efold\n",
      "working with phase_resolved_bin5AB_sr.lc_bary_orb_corr_nphase_128.efold\n",
      "working with phase_resolved_bin6AB_sr.lc_bary_orb_corr_nphase_128.efold\n",
      "working with phase_resolved_bin7AB_sr.lc_bary_orb_corr_nphase_128.efold\n",
      "working with phase_resolved_bin8AB_sr.lc_bary_orb_corr_nphase_128.efold\n",
      "working with phase_resolved_bin9AB_sr.lc_bary_orb_corr_nphase_128.efold\n",
      "working with phase_resolved_bin10AB_sr.lc_bary_orb_corr_nphase_128.efold\n",
      "/Users/sdbykov/work/my_packages/nustar_pipeline/nustar_pipeline/nustar_obs_class.py:560: UserWarning: Tight layout not applied. The bottom and top margins cannot be made large enough to accommodate all axes decorations. \n",
      "  fig.tight_layout()\n"
     ]
    }
   ],
   "source": [
    "efolds = propname_per_bin(modes = ['AB'], postfix='lc_bary_orb_corr_nphase_128.efold')\n",
    "nu_obs.check_efold_of_bins(efolds_files=reduce_list(efolds),prodpath=prodpath_ph_res, fiducial = '../spe_and_lc/spe_and_lcAB_sr.lc_bary_orb_corr_nphase_128.efold')"
   ]
  },
  {
   "cell_type": "code",
   "execution_count": null,
   "metadata": {},
   "outputs": [],
   "source": [
    "#light_curves = propname_per_bin(modes = ['AB'], postfix='lc_bary_orb_corr')\n",
    "#nu_obs.check_lightcurve_of_bins(lc_files=reduce_list(light_curves),prodpath=prodpath_ph_res, fiducial = '../spe_and_lc/spe_and_lcAB_sr.lc_bary_orb_corr')\n"
   ]
  },
  {
   "cell_type": "markdown",
   "metadata": {},
   "source": [
    "### group spectral files"
   ]
  },
  {
   "cell_type": "code",
   "execution_count": 16,
   "metadata": {},
   "outputs": [
    {
     "name": "stdout",
     "output_type": "stream",
     "text": [
      "Creating command command: grppha infile=\"phase_resolved_bin1A_sr.pha\" outfile=\"phase_resolved_bin1A_sr.pi\"  comm=\"group min 25 & exit\" clobber=yes\n",
      "Writing to file:  grppha\n",
      "Creating command command: grppha infile=\"phase_resolved_bin1B_sr.pha\" outfile=\"phase_resolved_bin1B_sr.pi\"  comm=\"group min 25 & exit\" clobber=yes\n",
      "Writing to file:  grppha\n",
      "Creating command command: grppha infile=\"phase_resolved_bin2A_sr.pha\" outfile=\"phase_resolved_bin2A_sr.pi\"  comm=\"group min 25 & exit\" clobber=yes\n",
      "Writing to file:  grppha\n",
      "Creating command command: grppha infile=\"phase_resolved_bin2B_sr.pha\" outfile=\"phase_resolved_bin2B_sr.pi\"  comm=\"group min 25 & exit\" clobber=yes\n",
      "Writing to file:  grppha\n",
      "Creating command command: grppha infile=\"phase_resolved_bin3A_sr.pha\" outfile=\"phase_resolved_bin3A_sr.pi\"  comm=\"group min 25 & exit\" clobber=yes\n",
      "Writing to file:  grppha\n",
      "Creating command command: grppha infile=\"phase_resolved_bin3B_sr.pha\" outfile=\"phase_resolved_bin3B_sr.pi\"  comm=\"group min 25 & exit\" clobber=yes\n",
      "Writing to file:  grppha\n",
      "Creating command command: grppha infile=\"phase_resolved_bin4A_sr.pha\" outfile=\"phase_resolved_bin4A_sr.pi\"  comm=\"group min 25 & exit\" clobber=yes\n",
      "Writing to file:  grppha\n",
      "Creating command command: grppha infile=\"phase_resolved_bin4B_sr.pha\" outfile=\"phase_resolved_bin4B_sr.pi\"  comm=\"group min 25 & exit\" clobber=yes\n",
      "Writing to file:  grppha\n",
      "Creating command command: grppha infile=\"phase_resolved_bin5A_sr.pha\" outfile=\"phase_resolved_bin5A_sr.pi\"  comm=\"group min 25 & exit\" clobber=yes\n",
      "Writing to file:  grppha\n",
      "Creating command command: grppha infile=\"phase_resolved_bin5B_sr.pha\" outfile=\"phase_resolved_bin5B_sr.pi\"  comm=\"group min 25 & exit\" clobber=yes\n",
      "Writing to file:  grppha\n",
      "Creating command command: grppha infile=\"phase_resolved_bin6A_sr.pha\" outfile=\"phase_resolved_bin6A_sr.pi\"  comm=\"group min 25 & exit\" clobber=yes\n",
      "Writing to file:  grppha\n",
      "Creating command command: grppha infile=\"phase_resolved_bin6B_sr.pha\" outfile=\"phase_resolved_bin6B_sr.pi\"  comm=\"group min 25 & exit\" clobber=yes\n",
      "Writing to file:  grppha\n",
      "Creating command command: grppha infile=\"phase_resolved_bin7A_sr.pha\" outfile=\"phase_resolved_bin7A_sr.pi\"  comm=\"group min 25 & exit\" clobber=yes\n",
      "Writing to file:  grppha\n",
      "Creating command command: grppha infile=\"phase_resolved_bin7B_sr.pha\" outfile=\"phase_resolved_bin7B_sr.pi\"  comm=\"group min 25 & exit\" clobber=yes\n",
      "Writing to file:  grppha\n",
      "Creating command command: grppha infile=\"phase_resolved_bin8A_sr.pha\" outfile=\"phase_resolved_bin8A_sr.pi\"  comm=\"group min 25 & exit\" clobber=yes\n",
      "Writing to file:  grppha\n",
      "Creating command command: grppha infile=\"phase_resolved_bin8B_sr.pha\" outfile=\"phase_resolved_bin8B_sr.pi\"  comm=\"group min 25 & exit\" clobber=yes\n",
      "Writing to file:  grppha\n",
      "Creating command command: grppha infile=\"phase_resolved_bin9A_sr.pha\" outfile=\"phase_resolved_bin9A_sr.pi\"  comm=\"group min 25 & exit\" clobber=yes\n",
      "Writing to file:  grppha\n",
      "Creating command command: grppha infile=\"phase_resolved_bin9B_sr.pha\" outfile=\"phase_resolved_bin9B_sr.pi\"  comm=\"group min 25 & exit\" clobber=yes\n",
      "Writing to file:  grppha\n",
      "Creating command command: grppha infile=\"phase_resolved_bin10A_sr.pha\" outfile=\"phase_resolved_bin10A_sr.pi\"  comm=\"group min 25 & exit\" clobber=yes\n",
      "Writing to file:  grppha\n",
      "Creating command command: grppha infile=\"phase_resolved_bin10B_sr.pha\" outfile=\"phase_resolved_bin10B_sr.pi\"  comm=\"group min 25 & exit\" clobber=yes\n",
      "Writing to file:  grppha\n"
     ]
    }
   ],
   "source": [
    "for pair in propname_per_bin(['A','B'], postfix = 'pha'):\n",
    "    nu_obs.grppha(infiles=pair, prodpath=prodpath_ph_res, group_min=25)\n"
   ]
  },
  {
   "cell_type": "markdown",
   "metadata": {},
   "source": [
    "# plot spectral ratio between different phase bins (no fitting)"
   ]
  },
  {
   "cell_type": "code",
   "execution_count": 35,
   "metadata": {},
   "outputs": [
    {
     "name": "stdout",
     "output_type": "stream",
     "text": [
      "grppha infile=\"phase_resolved_bin2A_sr.pha\" outfile=\"phase_resolved_bin2A_sr.pi_linbin\"  comm=\"group 1 210 5 211 4096 25 & exit\" clobber=yes\n",
      "grppha infile=\"phase_resolved_bin10A_sr.pha\" outfile=\"phase_resolved_bin10A_sr.pi_linbin\"  comm=\"group 1 210 5 211 4096 25 & exit\" clobber=yes\n",
      "grppha infile=\"phase_resolved_bin4A_sr.pha\" outfile=\"phase_resolved_bin4A_sr.pi_linbin\"  comm=\"group 1 210 5 211 4096 25 & exit\" clobber=yes\n",
      "grppha infile=\"phase_resolved_bin7A_sr.pha\" outfile=\"phase_resolved_bin7A_sr.pi_linbin\"  comm=\"group 1 210 5 211 4096 25 & exit\" clobber=yes\n",
      "grppha infile=\"phase_resolved_bin3A_sr.pha\" outfile=\"phase_resolved_bin3A_sr.pi_linbin\"  comm=\"group 1 210 5 211 4096 25 & exit\" clobber=yes\n",
      "grppha infile=\"phase_resolved_bin2B_sr.pha\" outfile=\"phase_resolved_bin2B_sr.pi_linbin\"  comm=\"group 1 210 5 211 4096 25 & exit\" clobber=yes\n",
      "grppha infile=\"phase_resolved_bin10B_sr.pha\" outfile=\"phase_resolved_bin10B_sr.pi_linbin\"  comm=\"group 1 210 5 211 4096 25 & exit\" clobber=yes\n",
      "grppha infile=\"phase_resolved_bin4B_sr.pha\" outfile=\"phase_resolved_bin4B_sr.pi_linbin\"  comm=\"group 1 210 5 211 4096 25 & exit\" clobber=yes\n",
      "grppha infile=\"phase_resolved_bin7B_sr.pha\" outfile=\"phase_resolved_bin7B_sr.pi_linbin\"  comm=\"group 1 210 5 211 4096 25 & exit\" clobber=yes\n",
      "grppha infile=\"phase_resolved_bin3B_sr.pha\" outfile=\"phase_resolved_bin3B_sr.pi_linbin\"  comm=\"group 1 210 5 211 4096 25 & exit\" clobber=yes\n"
     ]
    }
   ],
   "source": [
    "from pyxspeclib.definitions import AllData, Plot\n",
    "from nustar_pipeline.definitions import ratio_error, PIfromE\n",
    "def make_grppha_and_wd(folder, pha_files, NCHAN_1='5', NCHAN_2 = '15',\n",
    "                       en_lo='4.', en_hi='30.', en_split = 15,\n",
    "                       labels=None):\n",
    "    os.chdir(folder)\n",
    "\n",
    "    enarr = []\n",
    "    enerrarr = []\n",
    "    dataarr = []\n",
    "    dataerrarr = []\n",
    "\n",
    "    if labels is None:\n",
    "        labels = pha_files\n",
    "\n",
    "    for infile in pha_files:\n",
    "        stemname = infile.split('.')[0:-1]\n",
    "        stemname = '.'.join(stemname)\n",
    "        outfile = stemname+'.pi_linbin'\n",
    "        split_chan = int(PIfromE(en_split))\n",
    "        # grppha = f'''grppha infile=\"{infile}\" outfile=\"{outfile}\"  comm=\"group 1 4096 {NCHAN} & exit & exit\" clobber=yes'''\n",
    "        grppha = f'''grppha infile=\"{infile}\" outfile=\"{outfile}\"  comm=\"group 1 {split_chan} {NCHAN_1} {split_chan+1} 4096 {NCHAN_2} & exit\" clobber=yes'''\n",
    "        print(grppha)\n",
    "        os.system(grppha)\n",
    "\n",
    "        AllData.clear()\n",
    "        AllData(f\"1:1 {outfile}\")\n",
    "        AllData.ignore(f'**-{en_lo} {en_hi}-**')\n",
    "        # AllData.ignore(\"bad\")\n",
    "        Plot.device = '/null'\n",
    "        Plot('da')\n",
    "        Plot.xAxis = 'keV'\n",
    "        en = Plot.x()\n",
    "        data = Plot.y()\n",
    "        en_err = Plot.xErr()\n",
    "        data_err = Plot.yErr()\n",
    "\n",
    "        enarr.append(en)\n",
    "        dataarr.append(data)\n",
    "        dataerrarr.append(data_err)\n",
    "        enerrarr.append(en_err)\n",
    "\n",
    "    enarr = np.array(enarr)\n",
    "    dataarr = np.array(dataarr)\n",
    "    dataerrarr = np.array(dataerrarr)\n",
    "    enerrarr = np.array(enerrarr)\n",
    "\n",
    "    elo_ins = 5.5\n",
    "    ehi_ins = 8.5\n",
    "    fig, ax = plt.subplots(figsize=(4, 8))\n",
    "    #ax_zoom = ax.inset_axes([0.05, 0.70, 0.15, 0.35])    # type: ignore\n",
    "    # ax_zoom = ax.inset_axes([0.05, 0.25, 0.45, 0.65])    # type: ignore\n",
    "    #ax_zoom = ax.inset_axes([0.05, 0.25, 0.001, 0.001])    # type: ignore\n",
    "    # ax.indicate_inset_zoom(ax_zoom)\n",
    "\n",
    "    for i, (d, e) in enumerate(zip(dataarr[1:], dataerrarr[1:]), 1):\n",
    "        rat, rat_err = ratio_error(d, dataarr[0], e, dataerrarr[0])\n",
    "\n",
    "        ax.step(enarr[0], rat, 'o-',\n",
    "                label=f\"{labels[i]}/{labels[0]}\", where='mid', alpha=0.7)\n",
    "        color = ax.get_lines()[-1].get_color()\n",
    "        ax.errorbar(enarr[0], rat, rat_err, enerrarr[0],\n",
    "                    ecolor=color, fmt='none', alpha=0.4)\n",
    "\n",
    "        idx = (enarr[0] < ehi_ins) & (enarr[0] > elo_ins)\n",
    "        #ax_zoom.step(enarr[0][idx], rat[idx],\n",
    "        #             'o-', color=color, where='mid', alpha=0.7)\n",
    "        #ax_zoom.errorbar(enarr[0][idx], rat[idx],\n",
    "        #                 rat_err[idx], ecolor=color, fmt='none', alpha=0.4)\n",
    "\n",
    "        # ax_zoom.step(enarr[0][idx], rat[idx]/rat[idx][0],\n",
    "        #              'o-', color=color, where='mid', alpha=0.7)\n",
    "        # ax_zoom.errorbar(enarr[0][idx], rat[idx]/rat[idx][0],\n",
    "        #                  rat_err[idx]/rat[idx][0], ecolor=color, fmt='none', alpha=0.4)\n",
    "\n",
    "    for axt in [ax]:#, ax_zoom]:\n",
    "        axt.set_xscale('log')\n",
    "        axt.axvline(6.4, color='k', ls='--', lw=0.5)\n",
    "        axt.axvline(6.7, color='k', ls='--', lw=0.5)\n",
    "        axt.axvline(7.1, color='k', ls='--', lw=0.5)\n",
    "    #ax_zoom.set_xlim(elo_ins, ehi_ins)\n",
    "    #ax_zoom.set_yscale('log')\n",
    "    #ax.set_ylim(0.5, 2)\n",
    "    #ax.set_xlim(0.1, float(en_hi))\n",
    "    ax.set_yscale('log')\n",
    "\n",
    "    ax.legend(loc='lower left')\n",
    "    #ax.legend(bbox_to_anchor=(1, 0.5), loc='center left', fontsize=8)\n",
    "\n",
    "make_grppha_and_wd(folder='/Users/sdbykov/work/xray_pulsars/sj0243_nu/results/out90302319004/products/phase_resolved_shift_1/', pha_files=[\n",
    "                    'phase_resolved_bin2A_sr.pha', 'phase_resolved_bin10A_sr.pha', 'phase_resolved_bin4A_sr.pha', 'phase_resolved_bin7A_sr.pha', 'phase_resolved_bin3A_sr.pha'], NCHAN_1=5, NCHAN_2=25, en_split=10.)\n",
    "\n",
    "# make_grppha_and_wd(folder='/Users/sdbykov/work/xray_pulsars/sj0243_nu/results/out90302319004/products/phase_resolved_shift_1/', pha_files=[\n",
    "#                     'phase_resolved_bin2B_sr.pha', 'phase_resolved_bin10B_sr.pha', 'phase_resolved_bin4B_sr.pha', 'phase_resolved_bin7B_sr.pha', 'phase_resolved_bin3B_sr.pha'], NCHAN_1=5, NCHAN_2=25, en_split=10.)\n",
    "\n",
    "\n",
    "# make_grppha_and_wd(folder='/Users/sdbykov/work/xray_pulsars/sj0243_nu/results/out90302319006/products/phase_resolved/', pha_files=[\n",
    "#                    'phase_resolved_bin1A_sr.pha', 'phase_resolved_bin2A_sr.pha', 'phase_resolved_bin3A_sr.pha', 'phase_resolved_bin4A_sr.pha',  'phase_resolved_bin5A_sr.pha', 'phase_resolved_bin7A_sr.pha', 'phase_resolved_bin9A_sr.pha'], NCHAN=5)\n",
    "\n",
    "\n",
    "# make_grppha_and_wd(folder='/Users/sdbykov/work/xray_pulsars/sj0243_nu/results/out90401334002/products/phase_resolved', pha_files=['phase_resolved_bin9A_sr.pha', 'phase_resolved_bin2A_sr.pha', 'phase_resolved_bin3A_sr.pha', 'phase_resolved_bin4A_sr.pha', 'phase_resolved_bin7A_sr.pha', 'phase_resolved_bin1A_sr.pha'], NCHAN='40', en_hi = '79.')"
   ]
  },
  {
   "cell_type": "code",
   "execution_count": null,
   "metadata": {},
   "outputs": [],
   "source": []
  },
  {
   "cell_type": "code",
   "execution_count": null,
   "metadata": {},
   "outputs": [],
   "source": []
  }
 ],
 "metadata": {
  "interpreter": {
   "hash": "767d51c1340bd893661ea55ea3124f6de3c7a262a8b4abca0554b478b1e2ff90"
  },
  "kernelspec": {
   "display_name": "Python 3.8.10 64-bit ('venv_science': conda)",
   "language": "python",
   "name": "python3"
  },
  "language_info": {
   "codemirror_mode": {
    "name": "ipython",
    "version": 3
   },
   "file_extension": ".py",
   "mimetype": "text/x-python",
   "name": "python",
   "nbconvert_exporter": "python",
   "pygments_lexer": "ipython3",
   "version": "3.8.10"
  },
  "orig_nbformat": 2
 },
 "nbformat": 4,
 "nbformat_minor": 2
}
