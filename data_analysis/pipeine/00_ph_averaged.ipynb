{
 "cells": [
  {
   "cell_type": "markdown",
   "metadata": {},
   "source": [
    "# NUSTAR SCIENTIFIC PRODUCTS EXTRACTION"
   ]
  },
  {
   "cell_type": "code",
   "execution_count": 2,
   "metadata": {},
   "outputs": [],
   "source": [
    "from python_for_nustar.nu_core import np, plt, os, glob, scan_phase_resolved_products, reduce_list\n",
    "from python_for_nustar.nu_class import NustarObservation\n",
    "from python_for_nustar.pipeline.sj0243_init import Nu_path, ObsList_bright, ObsList, periods_val\n"
   ]
  },
  {
   "cell_type": "markdown",
   "metadata": {},
   "source": [
    "## Running nupipeline and  source and background  regions extraction ds9 scripts"
   ]
  },
  {
   "cell_type": "code",
   "execution_count": 4,
   "metadata": {},
   "outputs": [
    {
     "name": "stdout",
     "output_type": "stream",
     "text": [
      "###\n",
      "Observation 90302319002 loaded successfully\n"
     ]
    },
    {
     "ename": "Exception",
     "evalue": "nupipeline has already been launched!",
     "output_type": "error",
     "traceback": [
      "\u001b[0;31m---------------------------------------------------------------------------\u001b[0m",
      "\u001b[0;31mException\u001b[0m                                 Traceback (most recent call last)",
      "\u001b[1;32m/sj0243/python_for_nustar/pipeline/data_analysis/00_run_ph_ave.ipynb Cell 5'\u001b[0m in \u001b[0;36m<module>\u001b[0;34m\u001b[0m\n\u001b[1;32m      <a href='vscode-notebook-cell://attached-container%2B7b22636f6e7461696e65724e616d65223a222f646f63686561736f6674227d/sj0243/python_for_nustar/pipeline/data_analysis/00_run_ph_ave.ipynb#ch0000004vscode-remote?line=1'>2</a>\u001b[0m \u001b[39mfor\u001b[39;00m ObsID_tmp \u001b[39min\u001b[39;00m ObsList:\n\u001b[1;32m      <a href='vscode-notebook-cell://attached-container%2B7b22636f6e7461696e65724e616d65223a222f646f63686561736f6674227d/sj0243/python_for_nustar/pipeline/data_analysis/00_run_ph_ave.ipynb#ch0000004vscode-remote?line=2'>3</a>\u001b[0m     nu_obs \u001b[39m=\u001b[39m NustarObservation(ObsID_tmp, nu_path\u001b[39m=\u001b[39mNu_path)\n\u001b[0;32m----> <a href='vscode-notebook-cell://attached-container%2B7b22636f6e7461696e65724e616d65223a222f646f63686561736f6674227d/sj0243/python_for_nustar/pipeline/data_analysis/00_run_ph_ave.ipynb#ch0000004vscode-remote?line=3'>4</a>\u001b[0m     nu_obs\u001b[39m.\u001b[39;49mnupipeline(ObsList_bright\u001b[39m=\u001b[39;49mObsList_bright)\n\u001b[1;32m      <a href='vscode-notebook-cell://attached-container%2B7b22636f6e7461696e65724e616d65223a222f646f63686561736f6674227d/sj0243/python_for_nustar/pipeline/data_analysis/00_run_ph_ave.ipynb#ch0000004vscode-remote?line=4'>5</a>\u001b[0m     nu_obs\u001b[39m.\u001b[39mmake_regions()\n",
      "File \u001b[0;32m/sj0243/python_for_nustar/nu_class.py:61\u001b[0m, in \u001b[0;36mNustarObservation.nupipeline\u001b[0;34m(self, ObsList_bright)\u001b[0m\n\u001b[1;32m     <a href='file:///sj0243/python_for_nustar/nu_class.py?line=58'>59</a>\u001b[0m os\u001b[39m.\u001b[39mchdir(\u001b[39mself\u001b[39m\u001b[39m.\u001b[39mout_path)\n\u001b[1;32m     <a href='file:///sj0243/python_for_nustar/nu_class.py?line=59'>60</a>\u001b[0m \u001b[39mif\u001b[39;00m \u001b[39mlen\u001b[39m(glob(\u001b[39m\"\u001b[39m\u001b[39m*A01_cl.evt\u001b[39m\u001b[39m\"\u001b[39m)) \u001b[39m!=\u001b[39m \u001b[39m0\u001b[39m:\n\u001b[0;32m---> <a href='file:///sj0243/python_for_nustar/nu_class.py?line=60'>61</a>\u001b[0m     \u001b[39mraise\u001b[39;00m \u001b[39mException\u001b[39;00m(\u001b[39m\"\u001b[39m\u001b[39mnupipeline has already been launched!\u001b[39m\u001b[39m\"\u001b[39m)\n\u001b[1;32m     <a href='file:///sj0243/python_for_nustar/nu_class.py?line=62'>63</a>\u001b[0m nupipeline \u001b[39m=\u001b[39m \u001b[39mf\u001b[39m\u001b[39m\"\"\"\u001b[39m\u001b[39mnupipeline indir=\u001b[39m\u001b[39m{\u001b[39;00m\u001b[39mself\u001b[39m\u001b[39m.\u001b[39mdata_path\u001b[39m}\u001b[39;00m\u001b[39m steminputs=nu\u001b[39m\u001b[39m{\u001b[39;00m\u001b[39mself\u001b[39m\u001b[39m.\u001b[39mObsID\u001b[39m}\u001b[39;00m\u001b[39m outdir=\u001b[39m\u001b[39m{\u001b[39;00m\u001b[39mself\u001b[39m\u001b[39m.\u001b[39mout_path\u001b[39m}\u001b[39;00m\u001b[39m obsmode=SCIENCE createexpomap=yes\u001b[39m\u001b[39m\"\"\"\u001b[39m\n\u001b[1;32m     <a href='file:///sj0243/python_for_nustar/nu_class.py?line=63'>64</a>\u001b[0m \u001b[39mif\u001b[39;00m \u001b[39mself\u001b[39m\u001b[39m.\u001b[39mObsID \u001b[39min\u001b[39;00m ObsList_bright:\n",
      "\u001b[0;31mException\u001b[0m: nupipeline has already been launched!"
     ]
    }
   ],
   "source": [
    "#######   nupipeline and regions   #######\n",
    "for ObsID_tmp in ObsList:\n",
    "    nu_obs = NustarObservation(ObsID_tmp, nu_path=Nu_path)\n",
    "    nu_obs.nupipeline(ObsList_bright=ObsList_bright)\n",
    "    nu_obs.make_regions()"
   ]
  },
  {
   "cell_type": "markdown",
   "metadata": {},
   "source": [
    "## Initialize  NustarObservation object of particular ObsID"
   ]
  },
  {
   "cell_type": "code",
   "execution_count": null,
   "metadata": {},
   "outputs": [],
   "source": [
    "ObsID =  ObsList[0]\n",
    "nu_obs = NustarObservation(ObsID, nu_path=Nu_path, orb_params=orb_params_pulsar)\n",
    "open_dir_in_term()"
   ]
  },
  {
   "cell_type": "markdown",
   "metadata": {},
   "source": [
    "## basic nuproducts:\n",
    "extract spectra and light curve from both modules. \n",
    "gorup sepectra, make barycentric correction of light curves "
   ]
  },
  {
   "cell_type": "code",
   "execution_count": null,
   "metadata": {},
   "outputs": [],
   "source": [
    "prodpath_ave = 'spe_and_lc' #folder name for basivc products\n",
    "for mode in ['A', 'B']:      \n",
    "    nu_obs.nuproducts(outdir=prodpath_ave, mode=mode, stemout=prodpath_ave ,binsize='0.01')\n",
    "\n",
    "\n",
    "lclist = [f'{prodpath_ave}{mode}_sr.lc' for mode in ['A', 'B']]\n",
    "spelist = [f'{prodpath_ave}{mode}_sr.pha' for mode in ['A', 'B']]\n",
    "\n",
    "nu_obs.grppha(infiles=spelist,\n",
    "              prodpath='spe_and_lc', group_min=25)\n",
    "\n",
    "nu_obs.barycorr(infiles=lclist, prodpath=prodpath_ave, barytime='no')\n"
   ]
  },
  {
   "cell_type": "markdown",
   "metadata": {},
   "source": [
    "### sum light curves from modules A and B, correct times of arrival with orbital parameters if necessary"
   ]
  },
  {
   "cell_type": "code",
   "execution_count": null,
   "metadata": {},
   "outputs": [],
   "source": [
    "#sum light curves and make orbital correction\n",
    "nu_obs.lcmath(infiles=lclist,\n",
    "              outfile=prodpath_ave+'AB_sr.lc', prodpath=prodpath_ave, cmd_name='lcmath_orig',rewrite=True)\n",
    "\n",
    "nu_obs.lcmath(infiles=[x+'_bary' for x in lclist],\n",
    "              outfile=prodpath_ave+'AB_sr.lc_bary', prodpath=prodpath_ave, cmd_name='lcmath_bary', rewrite=True)\n"
   ]
  },
  {
   "cell_type": "code",
   "execution_count": null,
   "metadata": {},
   "outputs": [],
   "source": [
    "\n",
    "#first you launch lcmath and then apply orbital correction\n",
    "nu_obs.orb_correction_lc(\n",
    "    filename=prodpath_ave+'AB_sr.lc_bary', prodpath=prodpath_ave)\n"
   ]
  },
  {
   "cell_type": "markdown",
   "metadata": {},
   "source": [
    "### search for orbital period and make pulse profile of the light curve \n",
    " After you have found the period (as the maximum of chi2 value, or fitting efsearch results with gaussian, write the prriod for your ObsID into a dictionaty periods_val in init file of your pulsar)"
   ]
  },
  {
   "cell_type": "code",
   "execution_count": null,
   "metadata": {},
   "outputs": [],
   "source": [
    "####### orbital period search and light curve folding #######\n",
    "\n",
    "nu_obs.make_efsearch(prodpath_ave+'AB_sr.lc_bary_orb_corr',\n",
    "                     prodpath=prodpath_ave, p0='9.823', dres = '0.001', nper='64', nphase=16, cmd_name='efsearch_AB', rewrite=True)\n"
   ]
  },
  {
   "cell_type": "code",
   "execution_count": null,
   "metadata": {},
   "outputs": [],
   "source": [
    "period = periods_val[ObsID]\n",
    "nu_obs.make_efold(filename = prodpath_ave+'AB_sr.lc_bary_orb_corr', prodpath = prodpath_ave, period = str(period), cmd_name='efold_AB', nphase='128')"
   ]
  }
 ],
 "metadata": {
  "interpreter": {
   "hash": "767d51c1340bd893661ea55ea3124f6de3c7a262a8b4abca0554b478b1e2ff90"
  },
  "kernelspec": {
   "display_name": "Python 3.8.10 64-bit ('venv_science': conda)",
   "language": "python",
   "name": "python3"
  },
  "language_info": {
   "codemirror_mode": {
    "name": "ipython",
    "version": 3
   },
   "file_extension": ".py",
   "mimetype": "text/x-python",
   "name": "python",
   "nbconvert_exporter": "python",
   "pygments_lexer": "ipython3",
   "version": "3.8.10"
  },
  "orig_nbformat": 2
 },
 "nbformat": 4,
 "nbformat_minor": 2
}
