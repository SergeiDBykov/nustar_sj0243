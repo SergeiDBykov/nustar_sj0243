{
 "cells": [
  {
   "cell_type": "markdown",
   "metadata": {},
   "source": [
    "# NUSTAR SCIENTIFIC PRODUCTS EXTRACTION"
   ]
  },
  {
   "cell_type": "markdown",
   "metadata": {},
   "source": [
    "This notebook contains the set of cells which extract the NUSTAR scientific products from the raw data and prepares the data for further analysis (not phase-resolved  spectroscopy)."
   ]
  },
  {
   "cell_type": "markdown",
   "metadata": {},
   "source": [
    "-------"
   ]
  },
  {
   "cell_type": "markdown",
   "metadata": {},
   "source": [
    "First, import necessary classes and functions from `nustar_scripts` folder in the root"
   ]
  },
  {
   "cell_type": "code",
   "execution_count": 2,
   "metadata": {},
   "outputs": [
    {
     "name": "stdout",
     "output_type": "stream",
     "text": [
      "The autoreload extension is already loaded. To reload it, use:\n",
      "  %reload_ext autoreload\n"
     ]
    }
   ],
   "source": [
    "import sys\n",
    "sys.path.append('../')\n",
    "from nustar_scripts.nu_class import np, plt, os, glob, NustarObservation\n",
    "import matplotlib\n",
    "from nustar_scripts.pulsar_init import Nu_path, ObsList_bright, ObsList\n",
    "\n",
    "%load_ext autoreload\n",
    "%autoreload 3\n"
   ]
  },
  {
   "cell_type": "code",
   "execution_count": 3,
   "metadata": {},
   "outputs": [
    {
     "name": "stdout",
     "output_type": "stream",
     "text": [
      "['90302319002', '90302319004', '90302319006', '90302319008', '90401308002', '90401334002', '90501310002']\n"
     ]
    }
   ],
   "source": [
    "print(ObsList)"
   ]
  },
  {
   "cell_type": "markdown",
   "metadata": {},
   "source": [
    "------"
   ]
  },
  {
   "cell_type": "markdown",
   "metadata": {},
   "source": [
    "## Choose the  ObsID you want to work with \n",
    "\n",
    "by setting ``` ObsID=ObsList[<index>] ```  or by  setting it by  your value, e.g.   ```ObsID = '90201041002'```\n",
    "\n",
    "I  advice that you create a seperate notebook for each ObsID (by copying this one), so that you can check for  errors or rerun the analysis if necessary for separate observations."
   ]
  },
  {
   "cell_type": "code",
   "execution_count": 4,
   "metadata": {},
   "outputs": [
    {
     "name": "stdout",
     "output_type": "stream",
     "text": [
      "###\n",
      "Observation 90302319004 loaded successfully\n"
     ]
    }
   ],
   "source": [
    "ObsID =  ObsList[1] \n",
    "nu_obs = NustarObservation(ObsID, nu_path=Nu_path)"
   ]
  },
  {
   "cell_type": "markdown",
   "metadata": {},
   "source": [
    "1. Run this cell which creates nupipeline  and  source/background  regions extraction scripts.\n",
    "2. After the cell finishes, follow instructions one cell below."
   ]
  },
  {
   "cell_type": "code",
   "execution_count": 5,
   "metadata": {},
   "outputs": [
    {
     "name": "stdout",
     "output_type": "stream",
     "text": [
      "Writing to file:  nupipeline.sh\n",
      "Writing to file:  ds9_set.sh\n",
      "Writing to file:  ds9_check.sh\n"
     ]
    }
   ],
   "source": [
    "#######   nupipeline and regions   #######\n",
    "nu_obs.nupipeline(ObsList_bright=ObsList_bright)\n",
    "nu_obs.make_regions()"
   ]
  },
  {
   "cell_type": "markdown",
   "metadata": {},
   "source": [
    "3. Run `nupipeline.sh` script in the `out{ObsID}/` directory and wait  until  the nupipeline exits (it may take some time). Check for the errors in nupipeline.\n",
    "4. Run `ds9_set.sh` sript to set the region files **for both detectors**. Detector `FPMA` would be on the left side of ds9 view, `FPMB` - on the right. Save regions as `srcA.reg`, `srcB.reg`, `bkgA.reg`, and `bkgB.reg` in `out{ObsID}/` folder.\n",
    "5. Run `ds9_check.sh` script to check the region files - all regions are placed where they should with no interceptions with chip boundaries or misplaced source regin position, etc..."
   ]
  },
  {
   "cell_type": "markdown",
   "metadata": {},
   "source": [
    "-------"
   ]
  },
  {
   "cell_type": "markdown",
   "metadata": {},
   "source": [
    "### basic scientific products extraction\n",
    "extracts spectra and light curves from both modules. \n",
    "1. Run the cell and then follow instructions one cell below. \n",
    "2. Set parameters as you with (see `nuproducts` method docstring). You may change the energy range of interest, light curve binsize, and a number of other parameters."
   ]
  },
  {
   "cell_type": "code",
   "execution_count": 6,
   "metadata": {},
   "outputs": [
    {
     "name": "stdout",
     "output_type": "stream",
     "text": [
      "Writing to file:  spe_and_lcA.sh\n",
      "Writing to file:  spe_and_lcB.sh\n"
     ]
    }
   ],
   "source": [
    "prodpath_ave = 'spe_and_lc' #folder name for basic nustar products\n",
    "\n",
    "os.system('rm -f spe_and_lcA.sh') #remove is exists!\n",
    "os.system('rm -f spe_and_lcB.sh') #remove is exists!\n",
    "\n",
    "for mode in ['A', 'B']:      \n",
    "    nu_obs.nuproducts(outdir=prodpath_ave, mode=mode, stemout=prodpath_ave ,binsize='0.01') #set light curve bin size in seconds and other parameters of interest\n",
    "\n"
   ]
  },
  {
   "cell_type": "markdown",
   "metadata": {},
   "source": [
    "3. Go to `out{ObsID}/products` directory, run `spe_and_lcA.sh` and `spe_and_lcB.sh` scripts.\n",
    "\n",
    "\n",
    "Go `out{ObsID}/products/spe_and_lc`, some L1 products should be created and almost prepared for analysis (need to excecute the next cell)"
   ]
  },
  {
   "cell_type": "markdown",
   "metadata": {},
   "source": [
    "-----"
   ]
  },
  {
   "cell_type": "markdown",
   "metadata": {},
   "source": [
    "1. Run the code to make scripts for the extraction of barycentred light curves and grouping energy spectra. Set parameters as you with (see functions annotations)."
   ]
  },
  {
   "cell_type": "code",
   "execution_count": 7,
   "metadata": {},
   "outputs": [
    {
     "name": "stdout",
     "output_type": "stream",
     "text": [
      "Writing to file:  grppha.sh\n",
      "Writing to file:  grppha.sh\n",
      "Writing to file:  barycorr.sh\n",
      "Writing to file:  barycorr.sh\n"
     ]
    }
   ],
   "source": [
    "os.system('rm -f barycorr.sh') #remove is exists!\n",
    "os.system('rm -f grppha.sh') #remove is exists!\n",
    "\n",
    "lclist = [f'{prodpath_ave}{mode}_sr.lc' for mode in ['A', 'B']]\n",
    "spelist = [f'{prodpath_ave}{mode}_sr.pha' for mode in ['A', 'B']]\n",
    "\n",
    "nu_obs.grppha(infiles=spelist,\n",
    "              prodpath='spe_and_lc', group_min=25) #set minimum grouping of spectra\n",
    "\n",
    "nu_obs.barycorr(infiles=lclist, prodpath=prodpath_ave, barytime='no')\n"
   ]
  },
  {
   "cell_type": "markdown",
   "metadata": {},
   "source": [
    "2. Run  `grppha.sh` to regroup energy spectra.\n",
    "3. Run `barycorr.sh` to  make barycentred light curves of the source. \n",
    "\n",
    "\n",
    "**Note**: currently no orbit correction is applied to the light curves and event files. This should be fine if the NuSTAR obesrvation duration is short compared to the orbital period. \n",
    "\n",
    "\n",
    "**Note**: if your background is bright (e.g. straylight), the light curves for background should probably be also barycentred and subtracted from the source light curves.\n"
   ]
  },
  {
   "cell_type": "markdown",
   "metadata": {},
   "source": [
    "From this moment the spectral data(phase-averaged) is ready to be analysed in XSPEC or similar software.\n",
    "Light curves may also be analysed and searched for pulsations, periods, QPOs, etc."
   ]
  },
  {
   "cell_type": "markdown",
   "metadata": {},
   "source": [
    "------"
   ]
  },
  {
   "cell_type": "markdown",
   "metadata": {},
   "source": [
    "### Timing analysis: search for pulastions and periods"
   ]
  },
  {
   "cell_type": "markdown",
   "metadata": {},
   "source": [
    "1.  Run the cell below to produce `lcmath` ftools scripts that sum barycentered light curves from modules FPMA and FPMB and average them."
   ]
  },
  {
   "cell_type": "code",
   "execution_count": 30,
   "metadata": {},
   "outputs": [
    {
     "name": "stdout",
     "output_type": "stream",
     "text": [
      "Writing to file:  lcmath.sh\n",
      "Writing to file:  lcmath_bary.sh\n"
     ]
    }
   ],
   "source": [
    "nu_obs.lcmath(infiles=[x for x in lclist],\n",
    "              outfile=prodpath_ave+'AB_sr.lc', prodpath=prodpath_ave, cmd_name='lcmath', rewrite=True)\n",
    "\n",
    "nu_obs.lcmath(infiles=[x+'_bary' for x in lclist],\n",
    "              outfile=prodpath_ave+'AB_sr.lc_bary', prodpath=prodpath_ave, cmd_name='lcmath_bary', rewrite=True)\n"
   ]
  },
  {
   "cell_type": "markdown",
   "metadata": {},
   "source": [
    "2. Run `lcmath.sh` and `lcmath_bary.sh` script in the `out{ObsID}/products/spe_and_lc` directory."
   ]
  },
  {
   "cell_type": "markdown",
   "metadata": {},
   "source": [
    "#### Search for orbital period and make pulse profile of the light curve \n",
    " 1. Run the cell below to produce `efsearh` ftools script for period finding  with appropriate parameters. See instructions for the `efsearh` script in the heasarc web site."
   ]
  },
  {
   "cell_type": "code",
   "execution_count": 15,
   "metadata": {},
   "outputs": [
    {
     "name": "stdout",
     "output_type": "stream",
     "text": [
      "Writing to file:  efsearch_AB.sh\n"
     ]
    }
   ],
   "source": [
    "nu_obs.make_efsearch(prodpath_ave+'AB_sr.lc_bary', prodpath=prodpath_ave, p0='9.84435', dres = '0.00005', nper='64', nphase=16, cmd_name='efsearch_AB', rewrite=True)"
   ]
  },
  {
   "cell_type": "markdown",
   "metadata": {},
   "source": [
    "2. Run `efsearch_AB.sh` and proceed to the next cell. \n",
    "\n",
    "\n",
    "3. Make sure that the period searhing curve is correct and does not contain only noise or multiple peaks. Adjust the  `p0,dres,n_per` arguments to get the best result. \n",
    "\n",
    "Print `exit` during viewing efsearh  plot in `/XW` to save the file."
   ]
  },
  {
   "cell_type": "markdown",
   "metadata": {},
   "source": [
    "4.    Use  the period of maximum chi-squared value or the gaussian fit of the `efsearch` result. "
   ]
  },
  {
   "cell_type": "markdown",
   "metadata": {},
   "source": [
    "5. Put this value in `periods_val` dictionary in `nustar_scripts/pulsar_init.py` file and run the cell below to produce light curve folded with a given period."
   ]
  },
  {
   "cell_type": "code",
   "execution_count": 27,
   "metadata": {},
   "outputs": [
    {
     "name": "stdout",
     "output_type": "stream",
     "text": [
      "Period: 9.84435\n"
     ]
    }
   ],
   "source": [
    "from nustar_scripts.pulsar_init import periods_val\n",
    "period = periods_val[ObsID]\n",
    "print(f\"Period: {period}\")"
   ]
  },
  {
   "cell_type": "code",
   "execution_count": 28,
   "metadata": {},
   "outputs": [
    {
     "name": "stdout",
     "output_type": "stream",
     "text": [
      "Writing to file:  efold_AB.sh\n"
     ]
    }
   ],
   "source": [
    "period = periods_val[ObsID]\n",
    "nu_obs.make_efold(filename = prodpath_ave+'AB_sr.lc_bary', prodpath = prodpath_ave, period = str(period), cmd_name='efold_AB', nphase='128')"
   ]
  },
  {
   "cell_type": "markdown",
   "metadata": {},
   "source": [
    "6. Run `efold_AB.sh` script in the `out{ObsID}/products/spe_and_lc` directory  to produce the pulse profile."
   ]
  },
  {
   "cell_type": "markdown",
   "metadata": {},
   "source": [
    "7. Run the cell below to produce period-folded light curve."
   ]
  },
  {
   "cell_type": "code",
   "execution_count": 29,
   "metadata": {},
   "outputs": [
    {
     "data": {
      "image/png": "[encoded data removed]",
      "text/plain": [
       "<Figure size 864x576 with 1 Axes>"
      ]
     },
     "metadata": {
      "needs_background": "light"
     },
     "output_type": "display_data"
    }
   ],
   "source": [
    "nu_obs.plot_efold(prodpath_ave+'AB_sr.lc_bary_nphase_128', prodpath=prodpath_ave);"
   ]
  },
  {
   "cell_type": "markdown",
   "metadata": {},
   "source": [
    "-------"
   ]
  },
  {
   "cell_type": "markdown",
   "metadata": {},
   "source": [
    "The code above produced science products for the observation which is ready for further analysis in **phase-averaged** fashion.\n",
    "\n",
    "To proceed with the **phase-resolved** analyis, visit `01_ph_resolved.ipynb` notebook."
   ]
  }
 ],
 "metadata": {
  "kernelspec": {
   "display_name": "Python 3.10.4 ('venv_hea')",
   "language": "python",
   "name": "python3"
  },
  "language_info": {
   "codemirror_mode": {
    "name": "ipython",
    "version": 3
   },
   "file_extension": ".py",
   "mimetype": "text/x-python",
   "name": "python",
   "nbconvert_exporter": "python",
   "pygments_lexer": "ipython3",
   "version": "3.10.4"
  },
  "orig_nbformat": 2,
  "vscode": {
   "interpreter": {
    "hash": "e1dc9197fbdaf2df20a0ea77561d79844f791293e1aa1b8fac12d88bf49496cb"
   }
  }
 },
 "nbformat": 4,
 "nbformat_minor": 2
}
